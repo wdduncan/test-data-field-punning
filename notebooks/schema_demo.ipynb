{
 "cells": [
  {
   "cell_type": "markdown",
   "id": "5418bc93-510d-4359-be42-f99b04fc7ddb",
   "metadata": {},
   "source": [
    "# Data Field Punning Demonstration\n",
    "This notebook explores the utility of using OWL punning to query data using an abstract/ontological representation of a database schema. \n",
    "\n",
    "The ontology for the schema very minimal. \n",
    "\n",
    "<div>\n",
    "<img src='images/ontology-schema-element-branch.png' style=\"height: 125px\" />\n",
    "</div>\n",
    "\n",
    "The ontology, purposefully, does not use complex OWL axioms or high-level upper ontology classes (e.g., BFO) to represent and relate schema elements. Rather, the classes are intended to go along with the well-understood concepts employed by data professionals. This does mean that the ontology can be enriched with axioms and an upper-level ontology.  \n",
    "For convenience, I have included as part of the ontoogy some simple representations of \"real-world\" things under the entity branch.  \n",
    "\n",
    "<img src='images/ontology-entity-branch.png' style=\"height: 400px\" />\n",
    "\n",
    "In actual use, these enities would be imported from ontologies.\n",
    "\n",
    "The ontology is used to represent a simple database consisting of providers, patients, and procedures.  \n",
    "\n",
    "<img src='images/simple-tables.drawio.png' />  \n",
    "\n",
    "The fields in the tables are punned by reprenting them as:\n",
    "1. Object Properties. E.g.: \n",
    "```\n",
    "   _:row :patient_id _:field_value .  \n",
    "```\n",
    "2. Classes. E.g.:  \n",
    "```\n",
    "  :patient_id rdfs:subClassOf :field .\n",
    "```\n",
    "3. Individuals. E.g.:\n",
    "```\n",
    "  :tooth_num :represnets :tooth .\n",
    "  :patient_id :represents :patient .\n",
    "  :tooth_num :part_of :patient .\n",
    "```\n",
    "\n",
    "Data/field values are represented as instances, and a generic `has_value` data property is used to connect the literal value to the instance. E.g.:\n",
    "```\n",
    "  _:row :patient_id _:field_value . \n",
    "  _:field_value :has_value ?literal_value .\n",
    "```\n",
    "This permits other annotations to further describe instance of data/field values, if needed.  \n",
    "\n",
    "Enumerated values are used to represent the meanings of literal values defined in fields. E.g.:\n",
    "```\n",
    "  :enumerated_value#M :represents :male_person; :has_value \"M\" .\n",
    "  :enumerated_value#F :represents :female_person; :has_value \"F\" .\n",
    "  \n",
    "  :enumerated_value#M :defines_values_in :patient_id .\n",
    "  :enumerated_value#F :defines_values_in :patient_id .\n",
    "```\n"
   ]
  },
  {
   "cell_type": "code",
   "execution_count": 1,
   "id": "2ed22f95-78ab-4781-88b4-2154a35ed7fd",
   "metadata": {},
   "outputs": [],
   "source": [
    "# use autoreload for debugging lib modules\n",
    "%load_ext autoreload\n",
    "%autoreload 2"
   ]
  },
  {
   "cell_type": "code",
   "execution_count": 2,
   "id": "ee4e0316-3aec-42d3-989d-24130bee14db",
   "metadata": {},
   "outputs": [],
   "source": [
    "import pandas as pds\n",
    "from lib.helper_functions import init_graph, df_to_sql\n",
    "from rdflib import Namespace, URIRef\n",
    "from pandasql import sqldf\n",
    "pysqldf = lambda q: sqldf(q, globals())"
   ]
  },
  {
   "cell_type": "markdown",
   "id": "c05c97a7-feb1-4974-90f6-334110a96837",
   "metadata": {},
   "source": [
    "## load demo data into dataframes"
   ]
  },
  {
   "cell_type": "code",
   "execution_count": 3,
   "id": "4d2e898f-e7f5-43fb-8370-85f4fbb7523f",
   "metadata": {},
   "outputs": [],
   "source": [
    "patients = pds.read_csv('../data/patients.csv')\n",
    "providers = pds.read_csv('../data/providers.csv')\n",
    "procedures = pds.read_csv('../data/procedures.csv')"
   ]
  },
  {
   "cell_type": "markdown",
   "id": "17474bbe-b9f8-40b1-8949-8b02dc4dfab6",
   "metadata": {},
   "source": [
    "<img src='images/simple-tables.drawio.png' />"
   ]
  },
  {
   "cell_type": "markdown",
   "id": "4541ff7a-5990-4152-a539-e9416a5b1509",
   "metadata": {
    "tags": []
   },
   "source": [
    "## load ontology into rdflib graph"
   ]
  },
  {
   "cell_type": "code",
   "execution_count": 4,
   "id": "ce7f8e1c-1361-4f78-9b4d-aa9620767ccf",
   "metadata": {},
   "outputs": [],
   "source": [
    "g = init_graph('../ontology/data-field-punning.ttl')\n",
    "g.bind(\":\", Namespace(\"https://data-field-punning.owl/\")) # you can also use g.namespace_manager.bind(...)\n",
    "g.bind(\"field:\", Namespace(\"https://data-field-punning.owl/field/\"))\n",
    "g.bind(\"table:\", Namespace(\"https://data-field-punning.owl/table/\"))\n",
    "g.bind(\"enum:\", Namespace(\"https://data-field-punning.owl/enumerated_value/\"))"
   ]
  },
  {
   "cell_type": "markdown",
   "id": "26daf33c-438e-4fd4-9e8f-f769a4ddc78e",
   "metadata": {},
   "source": [
    "add some namespaces to use as shortcuts"
   ]
  },
  {
   "cell_type": "code",
   "execution_count": 5,
   "id": "3d110c55-90de-4b4c-998f-aff3c6c254e3",
   "metadata": {},
   "outputs": [],
   "source": [
    "ns = Namespace(\"https://data-field-punning.owl/\")\n",
    "field_ns = Namespace(ns.field)\n",
    "table_ns = Namespace(ns.table)\n",
    "enum_ns = Namespace(ns.enumerated_value)"
   ]
  },
  {
   "cell_type": "markdown",
   "id": "cd65cfdd-f56c-4f26-bfbd-208f1087ab60",
   "metadata": {
    "tags": []
   },
   "source": [
    "test simple sparql query"
   ]
  },
  {
   "cell_type": "code",
   "execution_count": 6,
   "id": "b163291e-dda6-451d-83ae-6472bdaae234",
   "metadata": {},
   "outputs": [
    {
     "data": {
      "text/html": [
       "<div>\n",
       "<style scoped>\n",
       "    .dataframe tbody tr th:only-of-type {\n",
       "        vertical-align: middle;\n",
       "    }\n",
       "\n",
       "    .dataframe tbody tr th {\n",
       "        vertical-align: top;\n",
       "    }\n",
       "\n",
       "    .dataframe thead th {\n",
       "        text-align: right;\n",
       "    }\n",
       "</style>\n",
       "<table border=\"1\" class=\"dataframe\">\n",
       "  <thead>\n",
       "    <tr style=\"text-align: right;\">\n",
       "      <th></th>\n",
       "      <th>cls</th>\n",
       "      <th>cls_label</th>\n",
       "    </tr>\n",
       "  </thead>\n",
       "  <tbody>\n",
       "    <tr>\n",
       "      <th>0</th>\n",
       "      <td>:canine</td>\n",
       "      <td>canine</td>\n",
       "    </tr>\n",
       "    <tr>\n",
       "      <th>1</th>\n",
       "      <td>:crown_restoration</td>\n",
       "      <td>crown restoration</td>\n",
       "    </tr>\n",
       "    <tr>\n",
       "      <th>2</th>\n",
       "      <td>:data_value</td>\n",
       "      <td>data value</td>\n",
       "    </tr>\n",
       "    <tr>\n",
       "      <th>3</th>\n",
       "      <td>:dentist</td>\n",
       "      <td>dentist</td>\n",
       "    </tr>\n",
       "    <tr>\n",
       "      <th>4</th>\n",
       "      <td>:entity</td>\n",
       "      <td>None</td>\n",
       "    </tr>\n",
       "  </tbody>\n",
       "</table>\n",
       "</div>"
      ],
      "text/plain": [
       "                  cls          cls_label\n",
       "0             :canine             canine\n",
       "1  :crown_restoration  crown restoration\n",
       "2         :data_value         data value\n",
       "3            :dentist            dentist\n",
       "4             :entity               None"
      ]
     },
     "execution_count": 6,
     "metadata": {},
     "output_type": "execute_result"
    }
   ],
   "source": [
    "q = \"\"\"\n",
    "select ?cls ?cls_label where {\n",
    "  ?cls a owl:Class\n",
    "  optional {?cls rdfs:label ?cls_label}\n",
    "}\n",
    "\"\"\"\n",
    "g.sparql_query_to_df(q).head() # note: I only display the first 5 results"
   ]
  },
  {
   "cell_type": "markdown",
   "id": "f2e7796f-20ec-4119-aa19-02b464564a75",
   "metadata": {},
   "source": [
    "## add table and field instances to graph"
   ]
  },
  {
   "cell_type": "code",
   "execution_count": 7,
   "id": "da514c4a-80af-4ee9-b23f-ac78b17487af",
   "metadata": {
    "tags": []
   },
   "outputs": [
    {
     "data": {
      "text/plain": [
       "<Graph identifier=Nabe79ecb72d44897846d37b7c780ed18 (<class 'rdflib.graph.Graph'>)>"
      ]
     },
     "execution_count": 7,
     "metadata": {},
     "output_type": "execute_result"
    }
   ],
   "source": [
    "g.add_table_metadata(patients, 'patients', table_ns, field_ns, ns)\n",
    "g.add_table_metadata(providers, 'providers', table_ns, field_ns, ns)\n",
    "g.add_table_metadata(procedures, 'procedures', table_ns, field_ns, ns)"
   ]
  },
  {
   "cell_type": "markdown",
   "id": "dc44bd9c-965f-4792-906e-2b830e52fddd",
   "metadata": {},
   "source": [
    "query to check that instaces where added"
   ]
  },
  {
   "cell_type": "code",
   "execution_count": 8,
   "id": "d5dfa17a-5221-4e72-a306-0b9b40de90e0",
   "metadata": {
    "tags": []
   },
   "outputs": [
    {
     "data": {
      "text/html": [
       "<div>\n",
       "<style scoped>\n",
       "    .dataframe tbody tr th:only-of-type {\n",
       "        vertical-align: middle;\n",
       "    }\n",
       "\n",
       "    .dataframe tbody tr th {\n",
       "        vertical-align: top;\n",
       "    }\n",
       "\n",
       "    .dataframe thead th {\n",
       "        text-align: right;\n",
       "    }\n",
       "</style>\n",
       "<table border=\"1\" class=\"dataframe\">\n",
       "  <thead>\n",
       "    <tr style=\"text-align: right;\">\n",
       "      <th></th>\n",
       "      <th>field</th>\n",
       "      <th>type</th>\n",
       "      <th>field_name</th>\n",
       "      <th>table</th>\n",
       "      <th>table_name</th>\n",
       "    </tr>\n",
       "  </thead>\n",
       "  <tbody>\n",
       "    <tr>\n",
       "      <th>0</th>\n",
       "      <td>:field/patients.patient_id</td>\n",
       "      <td>:field</td>\n",
       "      <td>patients.patient_id</td>\n",
       "      <td>:table/patients</td>\n",
       "      <td>patients</td>\n",
       "    </tr>\n",
       "    <tr>\n",
       "      <th>1</th>\n",
       "      <td>:field/patients.patient_id</td>\n",
       "      <td>owlClass</td>\n",
       "      <td>patients.patient_id</td>\n",
       "      <td>:table/patients</td>\n",
       "      <td>patients</td>\n",
       "    </tr>\n",
       "    <tr>\n",
       "      <th>2</th>\n",
       "      <td>:field/patients.name</td>\n",
       "      <td>:field</td>\n",
       "      <td>patients.name</td>\n",
       "      <td>:table/patients</td>\n",
       "      <td>patients</td>\n",
       "    </tr>\n",
       "    <tr>\n",
       "      <th>3</th>\n",
       "      <td>:field/patients.name</td>\n",
       "      <td>owlClass</td>\n",
       "      <td>patients.name</td>\n",
       "      <td>:table/patients</td>\n",
       "      <td>patients</td>\n",
       "    </tr>\n",
       "    <tr>\n",
       "      <th>4</th>\n",
       "      <td>:field/patients.gender</td>\n",
       "      <td>:field</td>\n",
       "      <td>patients.gender</td>\n",
       "      <td>:table/patients</td>\n",
       "      <td>patients</td>\n",
       "    </tr>\n",
       "  </tbody>\n",
       "</table>\n",
       "</div>"
      ],
      "text/plain": [
       "                        field      type           field_name            table  \\\n",
       "0  :field/patients.patient_id    :field  patients.patient_id  :table/patients   \n",
       "1  :field/patients.patient_id  owlClass  patients.patient_id  :table/patients   \n",
       "2        :field/patients.name    :field        patients.name  :table/patients   \n",
       "3        :field/patients.name  owlClass        patients.name  :table/patients   \n",
       "4      :field/patients.gender    :field      patients.gender  :table/patients   \n",
       "\n",
       "  table_name  \n",
       "0   patients  \n",
       "1   patients  \n",
       "2   patients  \n",
       "3   patients  \n",
       "4   patients  "
      ]
     },
     "execution_count": 8,
     "metadata": {},
     "output_type": "execute_result"
    }
   ],
   "source": [
    "q = \"\"\"\n",
    "prefix : <https://data-field-punning.owl/>\n",
    "select ?field ?type ?field_name ?table ?table_name where {\n",
    "  ?field a :field;\n",
    "         rdfs:label ?field_name;\n",
    "         rdf:type ?type;\n",
    "         :member_of ?table .\n",
    "  ?table rdfs:label ?table_name .\n",
    "}\n",
    "\"\"\"\n",
    "g.sparql_query_to_df(q).head()"
   ]
  },
  {
   "cell_type": "markdown",
   "id": "fa68f039-8446-489f-8b96-53339bb1c1b8",
   "metadata": {},
   "source": [
    "## add enumerated values\n",
    "The values in `patients.gender` and `procedures.proc_code` are enums. Let's add them to ontology shema.  \n",
    "Note: For demonstration purposes, I've made enums url safe. In a real-world scenario, the enums would need to be url encoded."
   ]
  },
  {
   "cell_type": "code",
   "execution_count": 9,
   "id": "d9fdba64-ec23-43e5-ba71-d35d5db587e5",
   "metadata": {},
   "outputs": [],
   "source": [
    "genders = list(pysqldf(\"select distinct gender from patients\")['gender'])\n",
    "proc_codes = list(pysqldf(\"select distinct proc_code from procedures\")['proc_code'])"
   ]
  },
  {
   "cell_type": "code",
   "execution_count": 10,
   "id": "4af2843f-db88-4688-995d-054a9e64d671",
   "metadata": {},
   "outputs": [
    {
     "data": {
      "text/plain": [
       "<Graph identifier=Nabe79ecb72d44897846d37b7c780ed18 (<class 'rdflib.graph.Graph'>)>"
      ]
     },
     "execution_count": 10,
     "metadata": {},
     "output_type": "execute_result"
    }
   ],
   "source": [
    "g.add_enums(genders, 'patients', 'gender', enum_ns, ns)\n",
    "g.add_enums(proc_codes, 'procedures', 'proc_code', enum_ns, ns)"
   ]
  },
  {
   "cell_type": "markdown",
   "id": "93d7f6ee-a6c3-46cd-b1d5-f3f4a682fc06",
   "metadata": {},
   "source": [
    "query the enums added to graph"
   ]
  },
  {
   "cell_type": "code",
   "execution_count": 11,
   "id": "81774ec7-6e9b-4b64-8bb2-ec2e2561020e",
   "metadata": {},
   "outputs": [
    {
     "data": {
      "text/html": [
       "<div>\n",
       "<style scoped>\n",
       "    .dataframe tbody tr th:only-of-type {\n",
       "        vertical-align: middle;\n",
       "    }\n",
       "\n",
       "    .dataframe tbody tr th {\n",
       "        vertical-align: top;\n",
       "    }\n",
       "\n",
       "    .dataframe thead th {\n",
       "        text-align: right;\n",
       "    }\n",
       "</style>\n",
       "<table border=\"1\" class=\"dataframe\">\n",
       "  <thead>\n",
       "    <tr style=\"text-align: right;\">\n",
       "      <th></th>\n",
       "      <th>enum</th>\n",
       "      <th>label</th>\n",
       "      <th>value</th>\n",
       "      <th>defines</th>\n",
       "    </tr>\n",
       "  </thead>\n",
       "  <tbody>\n",
       "    <tr>\n",
       "      <th>0</th>\n",
       "      <td>:enumerated_value/patients.gender#M</td>\n",
       "      <td>patients.gender M</td>\n",
       "      <td>M</td>\n",
       "      <td>:field/patients.gender</td>\n",
       "    </tr>\n",
       "    <tr>\n",
       "      <th>1</th>\n",
       "      <td>:enumerated_value/patients.gender#F</td>\n",
       "      <td>patients.gender F</td>\n",
       "      <td>F</td>\n",
       "      <td>:field/patients.gender</td>\n",
       "    </tr>\n",
       "    <tr>\n",
       "      <th>2</th>\n",
       "      <td>:enumerated_value/procedures.proc_code#d2300</td>\n",
       "      <td>procedures.proc_code d2300</td>\n",
       "      <td>d2300</td>\n",
       "      <td>:field/procedures.proc_code</td>\n",
       "    </tr>\n",
       "    <tr>\n",
       "      <th>3</th>\n",
       "      <td>:enumerated_value/procedures.proc_code#d2400</td>\n",
       "      <td>procedures.proc_code d2400</td>\n",
       "      <td>d2400</td>\n",
       "      <td>:field/procedures.proc_code</td>\n",
       "    </tr>\n",
       "    <tr>\n",
       "      <th>4</th>\n",
       "      <td>:enumerated_value/procedures.proc_code#d2500</td>\n",
       "      <td>procedures.proc_code d2500</td>\n",
       "      <td>d2500</td>\n",
       "      <td>:field/procedures.proc_code</td>\n",
       "    </tr>\n",
       "  </tbody>\n",
       "</table>\n",
       "</div>"
      ],
      "text/plain": [
       "                                           enum                       label  \\\n",
       "0           :enumerated_value/patients.gender#M           patients.gender M   \n",
       "1           :enumerated_value/patients.gender#F           patients.gender F   \n",
       "2  :enumerated_value/procedures.proc_code#d2300  procedures.proc_code d2300   \n",
       "3  :enumerated_value/procedures.proc_code#d2400  procedures.proc_code d2400   \n",
       "4  :enumerated_value/procedures.proc_code#d2500  procedures.proc_code d2500   \n",
       "\n",
       "   value                      defines  \n",
       "0      M       :field/patients.gender  \n",
       "1      F       :field/patients.gender  \n",
       "2  d2300  :field/procedures.proc_code  \n",
       "3  d2400  :field/procedures.proc_code  \n",
       "4  d2500  :field/procedures.proc_code  "
      ]
     },
     "execution_count": 11,
     "metadata": {},
     "output_type": "execute_result"
    }
   ],
   "source": [
    "q = \"\"\"\n",
    "prefix : <https://data-field-punning.owl/>\n",
    "select ?enum ?label ?value ?defines where {\n",
    "  ?enum a :enumerated_value;\n",
    "    rdfs:label ?label;\n",
    "    :has_value ?value;\n",
    "    :defines_values_in ?defines .\n",
    "}\n",
    "\"\"\"\n",
    "g.sparql_query_to_df(q).head()"
   ]
  },
  {
   "cell_type": "markdown",
   "id": "c75b8c3f-9673-4b51-b3bf-77ee59bf467f",
   "metadata": {},
   "source": [
    "## add what the data represents\n",
    "The data in the tables represent things in the world. We need to connect the data to their representations.  \n",
    "I created a simple mapping between IRIs and the classes represented by the them. This could also be done using a `robot` template or `SSSOM` mapping file.  \n",
    "Some of mappings are at the field level. For example, the patient_id field represents a patient in general. Other mappings are a the level of enumaterated values. For example, the value \"F\" in the patient.gender field represents a female.  \n",
    "**Note**: This mapping involves punning the classes as inviduals b/c the represents object property holds between individuals."
   ]
  },
  {
   "cell_type": "code",
   "execution_count": 12,
   "id": "620d4a67-40a9-48f1-9695-d75fa04c2aec",
   "metadata": {},
   "outputs": [],
   "source": [
    "# this can be made into a function\n",
    "for idx, iri, entity in pds.read_csv('../data/data_representations.csv').itertuples():\n",
    "    g.add_spo(iri, ns.represents, entity)"
   ]
  },
  {
   "cell_type": "code",
   "execution_count": 13,
   "id": "05fe633e-ff4f-45cf-912a-5b1b73fbd032",
   "metadata": {},
   "outputs": [
    {
     "data": {
      "text/html": [
       "<div>\n",
       "<style scoped>\n",
       "    .dataframe tbody tr th:only-of-type {\n",
       "        vertical-align: middle;\n",
       "    }\n",
       "\n",
       "    .dataframe tbody tr th {\n",
       "        vertical-align: top;\n",
       "    }\n",
       "\n",
       "    .dataframe thead th {\n",
       "        text-align: right;\n",
       "    }\n",
       "</style>\n",
       "<table border=\"1\" class=\"dataframe\">\n",
       "  <thead>\n",
       "    <tr style=\"text-align: right;\">\n",
       "      <th></th>\n",
       "      <th>uri</th>\n",
       "      <th>label</th>\n",
       "      <th>represents</th>\n",
       "    </tr>\n",
       "  </thead>\n",
       "  <tbody>\n",
       "    <tr>\n",
       "      <th>0</th>\n",
       "      <td>:field/patients.patient_id</td>\n",
       "      <td>patients.patient_id</td>\n",
       "      <td>:patient</td>\n",
       "    </tr>\n",
       "    <tr>\n",
       "      <th>1</th>\n",
       "      <td>:field/procedures.patient_id</td>\n",
       "      <td>procedures.patient_id</td>\n",
       "      <td>:patient</td>\n",
       "    </tr>\n",
       "    <tr>\n",
       "      <th>2</th>\n",
       "      <td>:field/patients.primary_provider_id</td>\n",
       "      <td>patients.primary_provider_id</td>\n",
       "      <td>:dentist</td>\n",
       "    </tr>\n",
       "    <tr>\n",
       "      <th>3</th>\n",
       "      <td>:field/providers.provider_id</td>\n",
       "      <td>providers.provider_id</td>\n",
       "      <td>:dentist</td>\n",
       "    </tr>\n",
       "    <tr>\n",
       "      <th>4</th>\n",
       "      <td>:field/procedures.provider_id</td>\n",
       "      <td>procedures.provider_id</td>\n",
       "      <td>:dentist</td>\n",
       "    </tr>\n",
       "  </tbody>\n",
       "</table>\n",
       "</div>"
      ],
      "text/plain": [
       "                                   uri                         label  \\\n",
       "0           :field/patients.patient_id           patients.patient_id   \n",
       "1         :field/procedures.patient_id         procedures.patient_id   \n",
       "2  :field/patients.primary_provider_id  patients.primary_provider_id   \n",
       "3         :field/providers.provider_id         providers.provider_id   \n",
       "4        :field/procedures.provider_id        procedures.provider_id   \n",
       "\n",
       "  represents  \n",
       "0   :patient  \n",
       "1   :patient  \n",
       "2   :dentist  \n",
       "3   :dentist  \n",
       "4   :dentist  "
      ]
     },
     "execution_count": 13,
     "metadata": {},
     "output_type": "execute_result"
    }
   ],
   "source": [
    "q = \"\"\"\n",
    "prefix : <https://data-field-punning.owl/>\n",
    "select ?uri ?label ?represents where {\n",
    "    ?uri :represents ?represents .\n",
    "    optional {\n",
    "      ?uri rdfs:label ?label\n",
    "    }\n",
    "}\n",
    "\"\"\"\n",
    "g.sparql_query_to_df(q).head()"
   ]
  },
  {
   "cell_type": "markdown",
   "id": "8ab40650-f951-4b0a-aeb3-834b7166e8c1",
   "metadata": {},
   "source": [
    "## use representations to form sql queries"
   ]
  },
  {
   "cell_type": "markdown",
   "id": "9ce8afcf-9ac2-4bf3-a625-0b30274433ec",
   "metadata": {},
   "source": [
    "Conceptually, the schema data represents entities in the manner illustrated below. Use information about what the data *represent*, we can query multiple fields in multiple tables based on the hierarchy in the ontology instead of having to rely solely on knowing the field names and values to retrieve."
   ]
  },
  {
   "cell_type": "markdown",
   "id": "469a8e60-fdac-4a6d-823f-5dc4f39c3946",
   "metadata": {},
   "source": [
    "<img src='images/simple-table-field-entity-graph.drawio.png' />"
   ]
  },
  {
   "cell_type": "markdown",
   "id": "77cdf5ea-e38c-4396-84ef-6eea52243e59",
   "metadata": {},
   "source": [
    "Find every field name that represents a `person`.  \n",
    "**Note**: This finds all fields that represent a subclass of `person`."
   ]
  },
  {
   "cell_type": "code",
   "execution_count": 14,
   "id": "9729d2df-57e2-474c-9e76-72f631e111d8",
   "metadata": {},
   "outputs": [
    {
     "data": {
      "text/html": [
       "<div>\n",
       "<style scoped>\n",
       "    .dataframe tbody tr th:only-of-type {\n",
       "        vertical-align: middle;\n",
       "    }\n",
       "\n",
       "    .dataframe tbody tr th {\n",
       "        vertical-align: top;\n",
       "    }\n",
       "\n",
       "    .dataframe thead th {\n",
       "        text-align: right;\n",
       "    }\n",
       "</style>\n",
       "<table border=\"1\" class=\"dataframe\">\n",
       "  <thead>\n",
       "    <tr style=\"text-align: right;\">\n",
       "      <th></th>\n",
       "      <th>table_name</th>\n",
       "      <th>field_name</th>\n",
       "      <th>cls_names</th>\n",
       "    </tr>\n",
       "  </thead>\n",
       "  <tbody>\n",
       "    <tr>\n",
       "      <th>0</th>\n",
       "      <td>patients</td>\n",
       "      <td>patients.patient_id</td>\n",
       "      <td>patient</td>\n",
       "    </tr>\n",
       "    <tr>\n",
       "      <th>1</th>\n",
       "      <td>patients</td>\n",
       "      <td>patients.primary_provider_id</td>\n",
       "      <td>dentist</td>\n",
       "    </tr>\n",
       "    <tr>\n",
       "      <th>2</th>\n",
       "      <td>procedures</td>\n",
       "      <td>procedures.patient_id</td>\n",
       "      <td>patient</td>\n",
       "    </tr>\n",
       "    <tr>\n",
       "      <th>3</th>\n",
       "      <td>procedures</td>\n",
       "      <td>procedures.provider_id</td>\n",
       "      <td>dentist</td>\n",
       "    </tr>\n",
       "    <tr>\n",
       "      <th>4</th>\n",
       "      <td>providers</td>\n",
       "      <td>providers.provider_id</td>\n",
       "      <td>dentist</td>\n",
       "    </tr>\n",
       "  </tbody>\n",
       "</table>\n",
       "</div>"
      ],
      "text/plain": [
       "   table_name                    field_name cls_names\n",
       "0    patients           patients.patient_id   patient\n",
       "1    patients  patients.primary_provider_id   dentist\n",
       "2  procedures         procedures.patient_id   patient\n",
       "3  procedures        procedures.provider_id   dentist\n",
       "4   providers         providers.provider_id   dentist"
      ]
     },
     "execution_count": 14,
     "metadata": {},
     "output_type": "execute_result"
    }
   ],
   "source": [
    "q = \"\"\"\n",
    "prefix : <https://data-field-punning.owl/>\n",
    "select distinct ?table_name ?field_name (group_concat(?cls_name) as ?cls_names) where {\n",
    "    ?cls rdfs:subClassOf :person;\n",
    "         rdfs:label ?cls_label .\n",
    "         \n",
    "    ?field a :field;\n",
    "        :represents ?cls;\n",
    "        rdfs:label ?field_name;\n",
    "        :member_of [a :table; rdfs:label ?table_name] .\n",
    "        \n",
    "    bind(replace(?cls_label, \" \", \"_\") as ?cls_name)\n",
    "}\n",
    "group by ?table_name ?field_name\n",
    "order by ?field_name\n",
    "\"\"\"\n",
    "field_df = g.sparql_query_to_df(q)\n",
    "field_df"
   ]
  },
  {
   "cell_type": "markdown",
   "id": "055dadea-56be-4970-bc21-534d3a83b4bf",
   "metadata": {},
   "source": [
    "### build SQL query"
   ]
  },
  {
   "cell_type": "code",
   "execution_count": 15,
   "id": "871ed78d-9ab9-4f2f-87a6-6274a185f709",
   "metadata": {},
   "outputs": [
    {
     "name": "stdout",
     "output_type": "stream",
     "text": [
      "select \n",
      "  patients.patient_id as [patients.patient_id (patient)] \n",
      "  ,  patients.primary_provider_id as [patients.primary_provider_id (dentist)] \n",
      "  ,  procedures.patient_id as [procedures.patient_id (patient)] \n",
      "  ,  procedures.provider_id as [procedures.provider_id (dentist)] \n",
      "  ,  providers.provider_id as [providers.provider_id (dentist)] \n",
      " \n",
      "from providers \n",
      "inner join patients on \n",
      "  patients.primary_provider_id = procedures.provider_id\n",
      "  and patients.primary_provider_id = providers.provider_id\n",
      "  and patients.patient_id = procedures.patient_id\n",
      "inner join procedures on \n",
      "  procedures.provider_id = providers.provider_id\n",
      "\n"
     ]
    }
   ],
   "source": [
    "q = df_to_sql(field_df)\n",
    "print(q)"
   ]
  },
  {
   "cell_type": "code",
   "execution_count": 16,
   "id": "fd999817-01b9-4f80-a66e-aea2f9024fdf",
   "metadata": {},
   "outputs": [
    {
     "data": {
      "text/html": [
       "<div>\n",
       "<style scoped>\n",
       "    .dataframe tbody tr th:only-of-type {\n",
       "        vertical-align: middle;\n",
       "    }\n",
       "\n",
       "    .dataframe tbody tr th {\n",
       "        vertical-align: top;\n",
       "    }\n",
       "\n",
       "    .dataframe thead th {\n",
       "        text-align: right;\n",
       "    }\n",
       "</style>\n",
       "<table border=\"1\" class=\"dataframe\">\n",
       "  <thead>\n",
       "    <tr style=\"text-align: right;\">\n",
       "      <th></th>\n",
       "      <th>patients.patient_id (patient)</th>\n",
       "      <th>patients.primary_provider_id (dentist)</th>\n",
       "      <th>procedures.patient_id (patient)</th>\n",
       "      <th>procedures.provider_id (dentist)</th>\n",
       "      <th>providers.provider_id (dentist)</th>\n",
       "    </tr>\n",
       "  </thead>\n",
       "  <tbody>\n",
       "    <tr>\n",
       "      <th>0</th>\n",
       "      <td>1001</td>\n",
       "      <td>1</td>\n",
       "      <td>1001</td>\n",
       "      <td>1</td>\n",
       "      <td>1</td>\n",
       "    </tr>\n",
       "    <tr>\n",
       "      <th>1</th>\n",
       "      <td>1004</td>\n",
       "      <td>1</td>\n",
       "      <td>1004</td>\n",
       "      <td>1</td>\n",
       "      <td>1</td>\n",
       "    </tr>\n",
       "    <tr>\n",
       "      <th>2</th>\n",
       "      <td>1002</td>\n",
       "      <td>2</td>\n",
       "      <td>1002</td>\n",
       "      <td>2</td>\n",
       "      <td>2</td>\n",
       "    </tr>\n",
       "    <tr>\n",
       "      <th>3</th>\n",
       "      <td>1005</td>\n",
       "      <td>2</td>\n",
       "      <td>1005</td>\n",
       "      <td>2</td>\n",
       "      <td>2</td>\n",
       "    </tr>\n",
       "    <tr>\n",
       "      <th>4</th>\n",
       "      <td>1003</td>\n",
       "      <td>3</td>\n",
       "      <td>1003</td>\n",
       "      <td>3</td>\n",
       "      <td>3</td>\n",
       "    </tr>\n",
       "    <tr>\n",
       "      <th>5</th>\n",
       "      <td>1006</td>\n",
       "      <td>3</td>\n",
       "      <td>1006</td>\n",
       "      <td>3</td>\n",
       "      <td>3</td>\n",
       "    </tr>\n",
       "  </tbody>\n",
       "</table>\n",
       "</div>"
      ],
      "text/plain": [
       "   patients.patient_id (patient)  patients.primary_provider_id (dentist)  \\\n",
       "0                           1001                                       1   \n",
       "1                           1004                                       1   \n",
       "2                           1002                                       2   \n",
       "3                           1005                                       2   \n",
       "4                           1003                                       3   \n",
       "5                           1006                                       3   \n",
       "\n",
       "   procedures.patient_id (patient)  procedures.provider_id (dentist)  \\\n",
       "0                             1001                                 1   \n",
       "1                             1004                                 1   \n",
       "2                             1002                                 2   \n",
       "3                             1005                                 2   \n",
       "4                             1003                                 3   \n",
       "5                             1006                                 3   \n",
       "\n",
       "   providers.provider_id (dentist)  \n",
       "0                                1  \n",
       "1                                1  \n",
       "2                                2  \n",
       "3                                2  \n",
       "4                                3  \n",
       "5                                3  "
      ]
     },
     "execution_count": 16,
     "metadata": {},
     "output_type": "execute_result"
    }
   ],
   "source": [
    "sqldf(q)"
   ]
  },
  {
   "cell_type": "markdown",
   "id": "c9c3e22e-8d73-489b-9af1-5473b3d9743d",
   "metadata": {},
   "source": [
    "## use enumerated values to filter data"
   ]
  },
  {
   "cell_type": "markdown",
   "id": "249ac007-3d32-4fe5-9e7c-d3d44bcbfe59",
   "metadata": {},
   "source": [
    "Find procedures that were rooth canals.  \n",
    "The enumerated value `enum:procedures.proc_code#d2800` represents a `root canal`. (i.e., `enum:procedures.proc_code#d2800 :represent entity:root_canal`).  \n",
    "This permits us to filter for procedure code value `d2800` using what this enum represents, and not the literal. This is useful in situations where different values represent the same kind of thing."
   ]
  },
  {
   "cell_type": "code",
   "execution_count": 17,
   "id": "60221e2a-efb4-4811-bf43-7558ccc7d18f",
   "metadata": {},
   "outputs": [
    {
     "data": {
      "text/html": [
       "<div>\n",
       "<style scoped>\n",
       "    .dataframe tbody tr th:only-of-type {\n",
       "        vertical-align: middle;\n",
       "    }\n",
       "\n",
       "    .dataframe tbody tr th {\n",
       "        vertical-align: top;\n",
       "    }\n",
       "\n",
       "    .dataframe thead th {\n",
       "        text-align: right;\n",
       "    }\n",
       "</style>\n",
       "<table border=\"1\" class=\"dataframe\">\n",
       "  <thead>\n",
       "    <tr style=\"text-align: right;\">\n",
       "      <th></th>\n",
       "      <th>table_name</th>\n",
       "      <th>field_name</th>\n",
       "      <th>cls_names</th>\n",
       "      <th>enum_value</th>\n",
       "    </tr>\n",
       "  </thead>\n",
       "  <tbody>\n",
       "    <tr>\n",
       "      <th>0</th>\n",
       "      <td>patients</td>\n",
       "      <td>patients.patient_id</td>\n",
       "      <td>patient</td>\n",
       "      <td>None</td>\n",
       "    </tr>\n",
       "    <tr>\n",
       "      <th>1</th>\n",
       "      <td>procedures</td>\n",
       "      <td>procedures.proc_id</td>\n",
       "      <td>procedure</td>\n",
       "      <td>None</td>\n",
       "    </tr>\n",
       "    <tr>\n",
       "      <th>2</th>\n",
       "      <td>procedures</td>\n",
       "      <td>procedures.patient_id</td>\n",
       "      <td>patient</td>\n",
       "      <td>None</td>\n",
       "    </tr>\n",
       "    <tr>\n",
       "      <th>3</th>\n",
       "      <td>procedures</td>\n",
       "      <td>procedures.proc_code</td>\n",
       "      <td>procedure</td>\n",
       "      <td>d2600</td>\n",
       "    </tr>\n",
       "  </tbody>\n",
       "</table>\n",
       "</div>"
      ],
      "text/plain": [
       "   table_name             field_name  cls_names enum_value\n",
       "0    patients    patients.patient_id    patient       None\n",
       "1  procedures     procedures.proc_id  procedure       None\n",
       "2  procedures  procedures.patient_id    patient       None\n",
       "3  procedures   procedures.proc_code  procedure      d2600"
      ]
     },
     "execution_count": 17,
     "metadata": {},
     "output_type": "execute_result"
    }
   ],
   "source": [
    "q = \"\"\"\n",
    "prefix : <https://data-field-punning.owl/> \n",
    "select distinct ?table_name ?field_name ?cls_names ?enum_value\n",
    "where {\n",
    "\n",
    "    ?field a :field;\n",
    "        :represents ?cls;\n",
    "        rdfs:label ?field_name;\n",
    "        :member_of [a :table; rdfs:label ?table_name] . \n",
    "    \n",
    "    optional {\n",
    "    ?enum a :enumerated_value;\n",
    "        :has_value ?enum_value;\n",
    "        :defines_values_in ?field;\n",
    "        :represents :root_canal .\n",
    "    }\n",
    "    \n",
    "    ?cls rdfs:label ?cls_names .\n",
    "    filter(?cls = :procedure || ?cls = :patient)\n",
    "}\n",
    "\"\"\"\n",
    "field_df = g.sparql_query_to_df(q)\n",
    "field_df"
   ]
  },
  {
   "cell_type": "markdown",
   "id": "5f51c4d5-05e3-44ea-a0cf-5575807754d6",
   "metadata": {},
   "source": [
    "## build sql query"
   ]
  },
  {
   "cell_type": "code",
   "execution_count": 18,
   "id": "c4bd8e61-a10e-4332-a093-d6d23a95f8fb",
   "metadata": {},
   "outputs": [
    {
     "name": "stdout",
     "output_type": "stream",
     "text": [
      "select \n",
      "  patients.patient_id as [patients.patient_id (patient)] \n",
      "  ,  procedures.proc_id as [procedures.proc_id (procedure)] \n",
      "  ,  procedures.patient_id as [procedures.patient_id (patient)] \n",
      "  ,  procedures.proc_code as [procedures.proc_code (procedure)] \n",
      " \n",
      "from patients \n",
      "inner join procedures on \n",
      "  patients.patient_id = procedures.patient_id\n",
      "  and procedures.proc_id = procedures.proc_code\n",
      "where procedures.proc_code = 'd2600' \n",
      "\n"
     ]
    }
   ],
   "source": [
    "q = df_to_sql(field_df)\n",
    "print(q)"
   ]
  },
  {
   "cell_type": "code",
   "execution_count": 19,
   "id": "7d99a9c6-ce83-4987-9154-93313ca58cfb",
   "metadata": {
    "tags": []
   },
   "outputs": [
    {
     "data": {
      "text/html": [
       "<div>\n",
       "<style scoped>\n",
       "    .dataframe tbody tr th:only-of-type {\n",
       "        vertical-align: middle;\n",
       "    }\n",
       "\n",
       "    .dataframe tbody tr th {\n",
       "        vertical-align: top;\n",
       "    }\n",
       "\n",
       "    .dataframe thead th {\n",
       "        text-align: right;\n",
       "    }\n",
       "</style>\n",
       "<table border=\"1\" class=\"dataframe\">\n",
       "  <thead>\n",
       "    <tr style=\"text-align: right;\">\n",
       "      <th></th>\n",
       "      <th>patients.patient_id (patient)</th>\n",
       "      <th>procedures.proc_id (procedure)</th>\n",
       "      <th>procedures.patient_id (patient)</th>\n",
       "      <th>procedures.proc_code (procedure)</th>\n",
       "    </tr>\n",
       "  </thead>\n",
       "  <tbody>\n",
       "  </tbody>\n",
       "</table>\n",
       "</div>"
      ],
      "text/plain": [
       "Empty DataFrame\n",
       "Columns: [patients.patient_id (patient), procedures.proc_id (procedure), procedures.patient_id (patient), procedures.proc_code (procedure)]\n",
       "Index: []"
      ]
     },
     "execution_count": 19,
     "metadata": {},
     "output_type": "execute_result"
    }
   ],
   "source": [
    "sqldf(q)"
   ]
  },
  {
   "cell_type": "markdown",
   "id": "ece06fdd-6c02-484c-a347-6ad37157fdd4",
   "metadata": {},
   "source": [
    "## add relations between fields\n",
    "By adding relations between the fields, we can query for how entities represented by the data in the fields are related.  \n",
    "For demonstration purposes, the relations are added to the graph directly. However, this information can also be in an external table.  \n",
    "**To Do**: Write code to turn results into a a sql query."
   ]
  },
  {
   "cell_type": "code",
   "execution_count": 20,
   "id": "ceb1d74c-9b58-440e-bdc5-ce8de58d1b93",
   "metadata": {},
   "outputs": [
    {
     "data": {
      "text/plain": [
       "<Graph identifier=Nabe79ecb72d44897846d37b7c780ed18 (<class 'rdflib.graph.Graph'>)>"
      ]
     },
     "execution_count": 20,
     "metadata": {},
     "output_type": "execute_result"
    }
   ],
   "source": [
    "g.add_spo(field_ns['/procedures.tooth_num'], ns['part_of'], field_ns['/procedures.patient_id'])\n",
    "g.add_spo(field_ns['/procedures.tooth_num'], ns['participates_in'], field_ns['/procedures.proc_code'])"
   ]
  },
  {
   "cell_type": "markdown",
   "id": "4eec04ed-70de-466c-b63d-8091e68f87bf",
   "metadata": {},
   "source": [
    "Find the fields whose data reprents the entities that a `tooth` is `part of` or `participates in`.  \n",
    "**note**: The query searches for the field that *represents* a `tooth`, not the field itself."
   ]
  },
  {
   "cell_type": "code",
   "execution_count": 21,
   "id": "30506faf-3e19-4483-b2d7-3b77576c5806",
   "metadata": {},
   "outputs": [
    {
     "data": {
      "text/html": [
       "<div>\n",
       "<style scoped>\n",
       "    .dataframe tbody tr th:only-of-type {\n",
       "        vertical-align: middle;\n",
       "    }\n",
       "\n",
       "    .dataframe tbody tr th {\n",
       "        vertical-align: top;\n",
       "    }\n",
       "\n",
       "    .dataframe thead th {\n",
       "        text-align: right;\n",
       "    }\n",
       "</style>\n",
       "<table border=\"1\" class=\"dataframe\">\n",
       "  <thead>\n",
       "    <tr style=\"text-align: right;\">\n",
       "      <th></th>\n",
       "      <th>subj_field</th>\n",
       "      <th>predicate</th>\n",
       "      <th>obj_field</th>\n",
       "    </tr>\n",
       "  </thead>\n",
       "  <tbody>\n",
       "    <tr>\n",
       "      <th>0</th>\n",
       "      <td>procedures.tooth_num</td>\n",
       "      <td>part of</td>\n",
       "      <td>procedures.patient_id</td>\n",
       "    </tr>\n",
       "    <tr>\n",
       "      <th>1</th>\n",
       "      <td>procedures.tooth_num</td>\n",
       "      <td>participates in</td>\n",
       "      <td>procedures.proc_code</td>\n",
       "    </tr>\n",
       "  </tbody>\n",
       "</table>\n",
       "</div>"
      ],
      "text/plain": [
       "             subj_field        predicate              obj_field\n",
       "0  procedures.tooth_num          part of  procedures.patient_id\n",
       "1  procedures.tooth_num  participates in   procedures.proc_code"
      ]
     },
     "execution_count": 21,
     "metadata": {},
     "output_type": "execute_result"
    }
   ],
   "source": [
    "q = \"\"\"\n",
    "prefix : <https://data-field-punning.owl/>\n",
    "select ?subj_field ?predicate ?obj_field where {\n",
    "  # find fields that represent a tooth\n",
    "  ?subj \n",
    "      rdfs:label ?subj_field;\n",
    "      :represents :tooth .\n",
    "      \n",
    "  # demonstrate that variables can be used as predicates\n",
    "  {\n",
    "    bind(:part_of as ?pred)\n",
    "    ?pred rdfs:label ?predicate .\n",
    "    \n",
    "    ?subj ?pred ?obj .\n",
    "    ?obj rdfs:label ?obj_field .\n",
    "  } union {\n",
    "    bind(:participates_in as ?pred)\n",
    "    ?pred rdfs:label ?predicate .\n",
    "    \n",
    "    ?subj ?pred ?obj .\n",
    "    ?obj rdfs:label ?obj_field .\n",
    "  }\n",
    "    \n",
    "}\n",
    "\"\"\"\n",
    "g.sparql_query_to_df(q)"
   ]
  },
  {
   "cell_type": "markdown",
   "id": "ebe2e5a4-46c9-438b-9f05-8359ce41a901",
   "metadata": {
    "tags": []
   },
   "source": [
    "## create a simple translation of the data into RDF"
   ]
  },
  {
   "cell_type": "code",
   "execution_count": 22,
   "id": "ef47e8b6-53bb-48c5-aa2f-b5c0d4920f83",
   "metadata": {},
   "outputs": [
    {
     "data": {
      "text/plain": [
       "<Graph identifier=Nabe79ecb72d44897846d37b7c780ed18 (<class 'rdflib.graph.Graph'>)>"
      ]
     },
     "execution_count": 22,
     "metadata": {},
     "output_type": "execute_result"
    }
   ],
   "source": [
    "g.add_df(patients, 'patients', field_ns, ns)\n",
    "g.add_df(procedures, 'procedures', field_ns, ns)\n",
    "g.add_df(providers, 'providers', field_ns, ns)"
   ]
  },
  {
   "cell_type": "markdown",
   "id": "738e2cf5-3591-41ee-872f-b70d2def189c",
   "metadata": {},
   "source": [
    "Query to see if insantace data was added using both:\n",
    "* punned field names\n",
    "* instances of field values that members of field instances"
   ]
  },
  {
   "cell_type": "markdown",
   "id": "9a7cf0ea-2653-444e-b76a-5f99b869d423",
   "metadata": {},
   "source": [
    "query using fields as object properties (punned)"
   ]
  },
  {
   "cell_type": "code",
   "execution_count": 23,
   "id": "15b2839d-93a9-4170-a65a-dd1f3e857dde",
   "metadata": {
    "tags": []
   },
   "outputs": [
    {
     "data": {
      "text/html": [
       "<div>\n",
       "<style scoped>\n",
       "    .dataframe tbody tr th:only-of-type {\n",
       "        vertical-align: middle;\n",
       "    }\n",
       "\n",
       "    .dataframe tbody tr th {\n",
       "        vertical-align: top;\n",
       "    }\n",
       "\n",
       "    .dataframe thead th {\n",
       "        text-align: right;\n",
       "    }\n",
       "</style>\n",
       "<table border=\"1\" class=\"dataframe\">\n",
       "  <thead>\n",
       "    <tr style=\"text-align: right;\">\n",
       "      <th></th>\n",
       "      <th>row</th>\n",
       "      <th>field_name</th>\n",
       "      <th>value</th>\n",
       "    </tr>\n",
       "  </thead>\n",
       "  <tbody>\n",
       "    <tr>\n",
       "      <th>0</th>\n",
       "      <td>N124df8790a1343cbb0f8deb37a3b22ed</td>\n",
       "      <td>patients.patient_id</td>\n",
       "      <td>1006</td>\n",
       "    </tr>\n",
       "    <tr>\n",
       "      <th>1</th>\n",
       "      <td>N124df8790a1343cbb0f8deb37a3b22ed</td>\n",
       "      <td>patients.name</td>\n",
       "      <td>Barney</td>\n",
       "    </tr>\n",
       "    <tr>\n",
       "      <th>2</th>\n",
       "      <td>N124df8790a1343cbb0f8deb37a3b22ed</td>\n",
       "      <td>patients.gender</td>\n",
       "      <td>M</td>\n",
       "    </tr>\n",
       "    <tr>\n",
       "      <th>3</th>\n",
       "      <td>N124df8790a1343cbb0f8deb37a3b22ed</td>\n",
       "      <td>patients.dob</td>\n",
       "      <td>2006-06-06</td>\n",
       "    </tr>\n",
       "    <tr>\n",
       "      <th>4</th>\n",
       "      <td>N124df8790a1343cbb0f8deb37a3b22ed</td>\n",
       "      <td>patients.primary_provider_id</td>\n",
       "      <td>3</td>\n",
       "    </tr>\n",
       "  </tbody>\n",
       "</table>\n",
       "</div>"
      ],
      "text/plain": [
       "                                 row                    field_name       value\n",
       "0  N124df8790a1343cbb0f8deb37a3b22ed           patients.patient_id        1006\n",
       "1  N124df8790a1343cbb0f8deb37a3b22ed                 patients.name      Barney\n",
       "2  N124df8790a1343cbb0f8deb37a3b22ed               patients.gender           M\n",
       "3  N124df8790a1343cbb0f8deb37a3b22ed                  patients.dob  2006-06-06\n",
       "4  N124df8790a1343cbb0f8deb37a3b22ed  patients.primary_provider_id           3"
      ]
     },
     "execution_count": 23,
     "metadata": {},
     "output_type": "execute_result"
    }
   ],
   "source": [
    "q = \"\"\"\n",
    "prefix : <https://data-field-punning.owl/>\n",
    "select ?row ?field_name ?value where {\n",
    "  ?field a :field;\n",
    "      rdfs:label ?field_name .\n",
    "      \n",
    "  ?row a :row; \n",
    "      ?field [:has_value ?value] .\n",
    "} \n",
    "order by ?row\n",
    "limit 5\n",
    "\"\"\"\n",
    "g.sparql_query_to_df(q)"
   ]
  },
  {
   "cell_type": "markdown",
   "id": "80b44edd-9e3d-4a5a-b09a-b59ff6eeb451",
   "metadata": {},
   "source": [
    "similar query to above using instnaces of field values"
   ]
  },
  {
   "cell_type": "code",
   "execution_count": 57,
   "id": "77ecce3d-0890-4ff4-81f7-c06b2a2b0846",
   "metadata": {},
   "outputs": [
    {
     "data": {
      "text/html": [
       "<div>\n",
       "<style scoped>\n",
       "    .dataframe tbody tr th:only-of-type {\n",
       "        vertical-align: middle;\n",
       "    }\n",
       "\n",
       "    .dataframe tbody tr th {\n",
       "        vertical-align: top;\n",
       "    }\n",
       "\n",
       "    .dataframe thead th {\n",
       "        text-align: right;\n",
       "    }\n",
       "</style>\n",
       "<table border=\"1\" class=\"dataframe\">\n",
       "  <thead>\n",
       "    <tr style=\"text-align: right;\">\n",
       "      <th></th>\n",
       "      <th>row</th>\n",
       "      <th>field_class</th>\n",
       "      <th>field</th>\n",
       "      <th>value</th>\n",
       "    </tr>\n",
       "  </thead>\n",
       "  <tbody>\n",
       "    <tr>\n",
       "      <th>0</th>\n",
       "      <td>N124df8790a1343cbb0f8deb37a3b22ed</td>\n",
       "      <td>patients.patient_id</td>\n",
       "      <td>N3b914df894d84b938d76d7f51c7e19cd</td>\n",
       "      <td>1006</td>\n",
       "    </tr>\n",
       "    <tr>\n",
       "      <th>1</th>\n",
       "      <td>N124df8790a1343cbb0f8deb37a3b22ed</td>\n",
       "      <td>patients.name</td>\n",
       "      <td>N85f371e874f5460bb5dfde3c2d0e74a2</td>\n",
       "      <td>Barney</td>\n",
       "    </tr>\n",
       "    <tr>\n",
       "      <th>2</th>\n",
       "      <td>N124df8790a1343cbb0f8deb37a3b22ed</td>\n",
       "      <td>patients.gender</td>\n",
       "      <td>N22c4df00c6564f44ac40ead2671ab976</td>\n",
       "      <td>M</td>\n",
       "    </tr>\n",
       "    <tr>\n",
       "      <th>3</th>\n",
       "      <td>N124df8790a1343cbb0f8deb37a3b22ed</td>\n",
       "      <td>patients.dob</td>\n",
       "      <td>Nbd9f92a0369447a18ddbb92906149641</td>\n",
       "      <td>2006-06-06</td>\n",
       "    </tr>\n",
       "    <tr>\n",
       "      <th>4</th>\n",
       "      <td>N124df8790a1343cbb0f8deb37a3b22ed</td>\n",
       "      <td>patients.primary_provider_id</td>\n",
       "      <td>N2740e78b2b8f48ccb42636a24ac7d141</td>\n",
       "      <td>3</td>\n",
       "    </tr>\n",
       "  </tbody>\n",
       "</table>\n",
       "</div>"
      ],
      "text/plain": [
       "                                 row                   field_class  \\\n",
       "0  N124df8790a1343cbb0f8deb37a3b22ed           patients.patient_id   \n",
       "1  N124df8790a1343cbb0f8deb37a3b22ed                 patients.name   \n",
       "2  N124df8790a1343cbb0f8deb37a3b22ed               patients.gender   \n",
       "3  N124df8790a1343cbb0f8deb37a3b22ed                  patients.dob   \n",
       "4  N124df8790a1343cbb0f8deb37a3b22ed  patients.primary_provider_id   \n",
       "\n",
       "                               field       value  \n",
       "0  N3b914df894d84b938d76d7f51c7e19cd        1006  \n",
       "1  N85f371e874f5460bb5dfde3c2d0e74a2      Barney  \n",
       "2  N22c4df00c6564f44ac40ead2671ab976           M  \n",
       "3  Nbd9f92a0369447a18ddbb92906149641  2006-06-06  \n",
       "4  N2740e78b2b8f48ccb42636a24ac7d141           3  "
      ]
     },
     "execution_count": 57,
     "metadata": {},
     "output_type": "execute_result"
    }
   ],
   "source": [
    "q = \"\"\"\n",
    "prefix : <https://data-field-punning.owl/>\n",
    "select ?row ?field_class ?field ?value where {\n",
    "  ?row a :row .\n",
    "  \n",
    "  ?field_class_uri rdfs:subClassOf :field;\n",
    "      rdfs:label ?field_class .\n",
    "      \n",
    "  ?field a ?field_class_uri;\n",
    "      :member_of ?row.\n",
    "      \n",
    "  ?field_value_uri a :field_value;\n",
    "      :member_of ?field;\n",
    "      :has_value ?value .\n",
    "}\n",
    "order by ?row\n",
    "limit 5\n",
    "\"\"\"\n",
    "g.sparql_query_to_df(q)"
   ]
  },
  {
   "cell_type": "markdown",
   "id": "6edff12c-c859-466a-b72f-80a5a69cede3",
   "metadata": {},
   "source": [
    "## query for teeth that are part of a patient and participated in a procedure\n",
    "Above we related the `tooth_num`, `patient_id`, and `proc_code` fields in the `procedures` table like so:\n",
    "* `procedures.tooth_num` `part of` `procedures.patient_id`  \n",
    "* `procedures.tooth_num` `participates_in` `procedures.proc_code`\n",
    "\n",
    "Using these relations between the fields, we can query for the data values that are related in this manner.  \n",
    "Due to performance issues with rdflib, I divide this into two parts. The first parts retrieves the uris of the field values.  \n",
    "The second part prints the literal values in a dataframe."
   ]
  },
  {
   "cell_type": "code",
   "execution_count": 25,
   "id": "322666ae-3adb-47d4-9afd-9c41f24e3fd5",
   "metadata": {},
   "outputs": [],
   "source": [
    "# part one: fetch field value uris\n",
    "q = \"\"\"\n",
    "prefix : <https://data-field-punning.owl/>\n",
    "select ?patient_value_uri ?tooth_value_uri ?procedure_value_uri where {\n",
    "\n",
    "  # specify what the fields represent\n",
    "  ?tooth_field_uri :represents :tooth .\n",
    "  ?patient_field_uri :represents :patient .\n",
    "  ?procedure_field_uri :represents :procedure .\n",
    "  \n",
    "  # specify how fields are related\n",
    "  ?tooth_field_uri :part_of ?patient_field_uri .\n",
    "  ?tooth_field_uri :participates_in ?procedure_field_uri .\n",
    "\n",
    "\n",
    "  # find rows where the field contains the data/field value\n",
    "  ?row a :row .\n",
    "  ?row ?tooth_field_uri ?tooth_value_uri .\n",
    "  ?row ?patient_field_uri ?patient_value_uri .\n",
    "  ?row ?procedure_field_uri ?procedure_value_uri .\n",
    "} \n",
    "\"\"\"\n",
    "results = g.query(q)"
   ]
  },
  {
   "cell_type": "code",
   "execution_count": 26,
   "id": "9812f99a-d025-494a-bd67-40048435b64f",
   "metadata": {},
   "outputs": [
    {
     "data": {
      "text/html": [
       "<div>\n",
       "<style scoped>\n",
       "    .dataframe tbody tr th:only-of-type {\n",
       "        vertical-align: middle;\n",
       "    }\n",
       "\n",
       "    .dataframe tbody tr th {\n",
       "        vertical-align: top;\n",
       "    }\n",
       "\n",
       "    .dataframe thead th {\n",
       "        text-align: right;\n",
       "    }\n",
       "</style>\n",
       "<table border=\"1\" class=\"dataframe\">\n",
       "  <thead>\n",
       "    <tr style=\"text-align: right;\">\n",
       "      <th></th>\n",
       "      <th>patient</th>\n",
       "      <th>tooth</th>\n",
       "      <th>procedure</th>\n",
       "    </tr>\n",
       "  </thead>\n",
       "  <tbody>\n",
       "    <tr>\n",
       "      <th>0</th>\n",
       "      <td>1001</td>\n",
       "      <td>1</td>\n",
       "      <td>d2300</td>\n",
       "    </tr>\n",
       "    <tr>\n",
       "      <th>1</th>\n",
       "      <td>1002</td>\n",
       "      <td>2</td>\n",
       "      <td>d2400</td>\n",
       "    </tr>\n",
       "    <tr>\n",
       "      <th>2</th>\n",
       "      <td>1003</td>\n",
       "      <td>3</td>\n",
       "      <td>d2500</td>\n",
       "    </tr>\n",
       "    <tr>\n",
       "      <th>3</th>\n",
       "      <td>1004</td>\n",
       "      <td>4</td>\n",
       "      <td>d2600</td>\n",
       "    </tr>\n",
       "    <tr>\n",
       "      <th>4</th>\n",
       "      <td>1005</td>\n",
       "      <td>5</td>\n",
       "      <td>d2700</td>\n",
       "    </tr>\n",
       "    <tr>\n",
       "      <th>5</th>\n",
       "      <td>1006</td>\n",
       "      <td>6</td>\n",
       "      <td>d2800</td>\n",
       "    </tr>\n",
       "  </tbody>\n",
       "</table>\n",
       "</div>"
      ],
      "text/plain": [
       "  patient tooth procedure\n",
       "0    1001     1     d2300\n",
       "1    1002     2     d2400\n",
       "2    1003     3     d2500\n",
       "3    1004     4     d2600\n",
       "4    1005     5     d2700\n",
       "5    1006     6     d2800"
      ]
     },
     "execution_count": 26,
     "metadata": {},
     "output_type": "execute_result"
    }
   ],
   "source": [
    "# part two: display values in dataframe\n",
    "data = [[str(g.value(patient_value_uri, ns.has_value)), \n",
    "         str(g.value(tooth_value_uri, ns.has_value)), \n",
    "         str(g.value(procedure_value_uri, ns.has_value))]\n",
    "        for patient_value_uri, tooth_value_uri, procedure_value_uri in results]\n",
    "pds.DataFrame(data, columns=[\"patient\", \"tooth\", \"procedure\"])"
   ]
  },
  {
   "cell_type": "markdown",
   "id": "1527d018-50b0-46d3-9350-9055a399f50d",
   "metadata": {},
   "source": [
    "This query returns the same results as above, but uses instances of fields, instead of using fields as object properties.  \n",
    "**Note**: Punning is still used to relate data in the tooth field that is `part of` the data in the patient field.  \n",
    "The fields that are represented as classes are punned to be represented as individuals: `?tooth_field_class_uri :part_of ?patient_field_class_uri`.\n",
    "\n",
    "For performance reasons, displaying the results in a dataframe is more complicated."
   ]
  },
  {
   "cell_type": "code",
   "execution_count": 27,
   "id": "9a0e10de-48a1-4c6e-aa27-fb1b5fa93803",
   "metadata": {},
   "outputs": [],
   "source": [
    "# part one: fetch field uris\n",
    "q = \"\"\"\n",
    "prefix : <https://data-field-punning.owl/>\n",
    "select ?patient_field_uri ?tooth_field_uri ?procedure_field_uri where {\n",
    "  # specify what the fields represent\n",
    "  ?tooth_field_class_uri a owl:Class; :represents :tooth .\n",
    "  ?patient_field_class_uri a owl:Class; :represents :patient .\n",
    "  ?procedure_field_class_uri a owl:Class; :represents :procedure .\n",
    "  \n",
    "  # specify how fields are related (field classes are punned as individuals)\n",
    "  ?tooth_field_class_uri :part_of ?patient_field_class_uri .\n",
    "  ?tooth_field_class_uri :participates_in ?procedure_field_class_uri .\n",
    "\n",
    "  # find instances of fields that are members of same row\n",
    "  ?row a :row .\n",
    "  ?tooth_field_uri \n",
    "      a ?tooth_field_class_uri;\n",
    "      :member_of ?row .\n",
    "  ?patient_field_uri \n",
    "      a ?patient_field_class_uri; \n",
    "      :member_of ?row .\n",
    "  ?procedure_field_uri\n",
    "      a ?procedure_field_class_uri;\n",
    "      :member_of ?row .\n",
    "} \n",
    "\"\"\"\n",
    "results = g.query(q)"
   ]
  },
  {
   "cell_type": "code",
   "execution_count": 28,
   "id": "53b3a7af-985d-484e-b489-6ab753ef727b",
   "metadata": {},
   "outputs": [
    {
     "data": {
      "text/html": [
       "<div>\n",
       "<style scoped>\n",
       "    .dataframe tbody tr th:only-of-type {\n",
       "        vertical-align: middle;\n",
       "    }\n",
       "\n",
       "    .dataframe tbody tr th {\n",
       "        vertical-align: top;\n",
       "    }\n",
       "\n",
       "    .dataframe thead th {\n",
       "        text-align: right;\n",
       "    }\n",
       "</style>\n",
       "<table border=\"1\" class=\"dataframe\">\n",
       "  <thead>\n",
       "    <tr style=\"text-align: right;\">\n",
       "      <th></th>\n",
       "      <th>patient</th>\n",
       "      <th>tooth</th>\n",
       "      <th>procedure</th>\n",
       "    </tr>\n",
       "  </thead>\n",
       "  <tbody>\n",
       "    <tr>\n",
       "      <th>0</th>\n",
       "      <td>1001</td>\n",
       "      <td>1</td>\n",
       "      <td>d2300</td>\n",
       "    </tr>\n",
       "    <tr>\n",
       "      <th>1</th>\n",
       "      <td>1002</td>\n",
       "      <td>2</td>\n",
       "      <td>d2400</td>\n",
       "    </tr>\n",
       "    <tr>\n",
       "      <th>2</th>\n",
       "      <td>1003</td>\n",
       "      <td>3</td>\n",
       "      <td>d2500</td>\n",
       "    </tr>\n",
       "    <tr>\n",
       "      <th>3</th>\n",
       "      <td>1004</td>\n",
       "      <td>4</td>\n",
       "      <td>d2600</td>\n",
       "    </tr>\n",
       "    <tr>\n",
       "      <th>4</th>\n",
       "      <td>1005</td>\n",
       "      <td>5</td>\n",
       "      <td>d2700</td>\n",
       "    </tr>\n",
       "    <tr>\n",
       "      <th>5</th>\n",
       "      <td>1006</td>\n",
       "      <td>6</td>\n",
       "      <td>d2800</td>\n",
       "    </tr>\n",
       "  </tbody>\n",
       "</table>\n",
       "</div>"
      ],
      "text/plain": [
       "  patient tooth procedure\n",
       "0    1001     1     d2300\n",
       "1    1002     2     d2400\n",
       "2    1003     3     d2500\n",
       "3    1004     4     d2600\n",
       "4    1005     5     d2700\n",
       "5    1006     6     d2800"
      ]
     },
     "execution_count": 28,
     "metadata": {},
     "output_type": "execute_result"
    }
   ],
   "source": [
    "# part two: display values in dataframe\n",
    "data = []\n",
    "for patient_field_uri, tooth_field_uri, procedure_field_uri in results:\n",
    "    # fetch field value uri that is a member of the field (uri)\n",
    "    #   triples returns a list with a tuple (e.g., [(s, p, o)]\n",
    "    #   so, the field uri is the first element of the tuple that is the first list element\n",
    "    patient_value_uri = list(g.triples((None, ns.member_of, patient_field_uri)))[0][0]\n",
    "    tooth_value_uri = list(g.triples((None, ns.member_of, tooth_field_uri)))[0][0]\n",
    "    procedure_value_uri = list(g.triples((None, ns.member_of, procedure_field_uri)))[0][0]\n",
    "    \n",
    "    # put literal data values in data list\n",
    "    data.append([str(g.value(patient_value_uri, ns.has_value)), \n",
    "                 str(g.value(tooth_value_uri, ns.has_value)), \n",
    "                 str(g.value(procedure_value_uri, ns.has_value))])\n",
    "\n",
    "pds.DataFrame(data, columns=[\"patient\", \"tooth\", \"procedure\"])"
   ]
  },
  {
   "cell_type": "markdown",
   "id": "b6d8fbb5-27d5-497f-a1f3-4a1e1fdb053b",
   "metadata": {
    "tags": []
   },
   "source": [
    "## use enum to filter RDF\n",
    "Similar to above, we can filter for root canal procedures using what the enumerated value `enum:procedures.proc_code#d2800` represents."
   ]
  },
  {
   "cell_type": "code",
   "execution_count": 75,
   "id": "bc49ec80-6c6d-424c-b34f-e692620181b5",
   "metadata": {},
   "outputs": [
    {
     "data": {
      "text/html": [
       "<div>\n",
       "<style scoped>\n",
       "    .dataframe tbody tr th:only-of-type {\n",
       "        vertical-align: middle;\n",
       "    }\n",
       "\n",
       "    .dataframe tbody tr th {\n",
       "        vertical-align: top;\n",
       "    }\n",
       "\n",
       "    .dataframe thead th {\n",
       "        text-align: right;\n",
       "    }\n",
       "</style>\n",
       "<table border=\"1\" class=\"dataframe\">\n",
       "  <thead>\n",
       "    <tr style=\"text-align: right;\">\n",
       "      <th></th>\n",
       "      <th>patient</th>\n",
       "      <th>tooth</th>\n",
       "      <th>procedure</th>\n",
       "    </tr>\n",
       "  </thead>\n",
       "  <tbody>\n",
       "    <tr>\n",
       "      <th>0</th>\n",
       "      <td>1004</td>\n",
       "      <td>4</td>\n",
       "      <td>d2600</td>\n",
       "    </tr>\n",
       "  </tbody>\n",
       "</table>\n",
       "</div>"
      ],
      "text/plain": [
       "   patient  tooth procedure\n",
       "0     1004      4     d2600"
      ]
     },
     "execution_count": 75,
     "metadata": {},
     "output_type": "execute_result"
    }
   ],
   "source": [
    "# part one: fetch field value uris\n",
    "q = \"\"\"\n",
    "base <https://data-field-punning.owl/>\n",
    "prefix : <https://data-field-punning.owl/>\n",
    "select ?patient ?tooth ?procedure where {\n",
    "  # specify what enum represents the field whose values it defines\n",
    "  ?enum_uri \n",
    "      a :enumerated_value;\n",
    "      :represents :root_canal;\n",
    "      :has_value ?enum_value;\n",
    "      :defines_values_in ?field_uri .\n",
    "      \n",
    "  # fetch data/values from field defined by enum\n",
    "  ?row \n",
    "      a :row;\n",
    "      <field/procedures.patient_id> [:has_value ?patient];\n",
    "      <field/procedures.tooth_num> [:has_value ?tooth];\n",
    "      ?field_uri [:has_value ?procedure] .\n",
    "  filter(?procedure = ?enum_value)  \n",
    "} \n",
    "\"\"\"\n",
    "g.sparql_query_to_df(q)"
   ]
  },
  {
   "cell_type": "code",
   "execution_count": null,
   "id": "315af213-4480-41dc-ad01-f285f34e8dcc",
   "metadata": {},
   "outputs": [],
   "source": []
  }
 ],
 "metadata": {
  "kernelspec": {
   "display_name": "test-data-field-punning",
   "language": "python",
   "name": "test-data-field-punning"
  },
  "language_info": {
   "codemirror_mode": {
    "name": "ipython",
    "version": 3
   },
   "file_extension": ".py",
   "mimetype": "text/x-python",
   "name": "python",
   "nbconvert_exporter": "python",
   "pygments_lexer": "ipython3",
   "version": "3.9.13"
  }
 },
 "nbformat": 4,
 "nbformat_minor": 5
}

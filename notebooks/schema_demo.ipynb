{
 "cells": [
  {
   "cell_type": "code",
   "execution_count": 1,
   "id": "ee4e0316-3aec-42d3-989d-24130bee14db",
   "metadata": {},
   "outputs": [],
   "source": [
    "import pandas as pds\n",
    "import rdflib\n",
    "from rdflib import URIRef, BNode, Literal, Graph, Namespace, RDF, RDFS, OWL\n",
    "from rdflib.plugins.sparql.processor import SPARQLResult\n",
    "from SPARQLWrapper import SPARQLWrapper\n",
    "from pandasql import sqldf\n",
    "from typing import Optional, List, Any\n",
    "pysqldf = lambda q: sqldf(q, globals())"
   ]
  },
  {
   "cell_type": "markdown",
   "id": "c05c97a7-feb1-4974-90f6-334110a96837",
   "metadata": {},
   "source": [
    "## load data"
   ]
  },
  {
   "cell_type": "code",
   "execution_count": 2,
   "id": "4d2e898f-e7f5-43fb-8370-85f4fbb7523f",
   "metadata": {},
   "outputs": [],
   "source": [
    "patients = pds.read_csv('../data/patients.csv')\n",
    "providers = pds.read_csv('../data/providers.csv')\n",
    "procedures = pds.read_csv('../data/procedures.csv')"
   ]
  },
  {
   "cell_type": "markdown",
   "id": "4a6a34fa-d721-4156-8e71-eaeaca731fd7",
   "metadata": {},
   "source": [
    "test with simple sql query"
   ]
  },
  {
   "cell_type": "code",
   "execution_count": 3,
   "id": "6f2ba2d7-ce3f-40bd-be09-500e8ea33c61",
   "metadata": {},
   "outputs": [
    {
     "data": {
      "text/html": [
       "<div>\n",
       "<style scoped>\n",
       "    .dataframe tbody tr th:only-of-type {\n",
       "        vertical-align: middle;\n",
       "    }\n",
       "\n",
       "    .dataframe tbody tr th {\n",
       "        vertical-align: top;\n",
       "    }\n",
       "\n",
       "    .dataframe thead th {\n",
       "        text-align: right;\n",
       "    }\n",
       "</style>\n",
       "<table border=\"1\" class=\"dataframe\">\n",
       "  <thead>\n",
       "    <tr style=\"text-align: right;\">\n",
       "      <th></th>\n",
       "      <th>proc_id</th>\n",
       "      <th>proc_date</th>\n",
       "      <th>patient_id</th>\n",
       "      <th>provider_id</th>\n",
       "      <th>tooth_num</th>\n",
       "      <th>proc_code</th>\n",
       "    </tr>\n",
       "  </thead>\n",
       "  <tbody>\n",
       "    <tr>\n",
       "      <th>0</th>\n",
       "      <td>1</td>\n",
       "      <td>2020-01-01</td>\n",
       "      <td>1001</td>\n",
       "      <td>1</td>\n",
       "      <td>1</td>\n",
       "      <td>d2300</td>\n",
       "    </tr>\n",
       "    <tr>\n",
       "      <th>1</th>\n",
       "      <td>2</td>\n",
       "      <td>2020-02-01</td>\n",
       "      <td>1002</td>\n",
       "      <td>2</td>\n",
       "      <td>2</td>\n",
       "      <td>d2400</td>\n",
       "    </tr>\n",
       "    <tr>\n",
       "      <th>2</th>\n",
       "      <td>3</td>\n",
       "      <td>2020-03-01</td>\n",
       "      <td>1003</td>\n",
       "      <td>3</td>\n",
       "      <td>3</td>\n",
       "      <td>d2500</td>\n",
       "    </tr>\n",
       "    <tr>\n",
       "      <th>3</th>\n",
       "      <td>4</td>\n",
       "      <td>2020-04-01</td>\n",
       "      <td>1004</td>\n",
       "      <td>1</td>\n",
       "      <td>4</td>\n",
       "      <td>d2600</td>\n",
       "    </tr>\n",
       "    <tr>\n",
       "      <th>4</th>\n",
       "      <td>5</td>\n",
       "      <td>2020-05-01</td>\n",
       "      <td>1005</td>\n",
       "      <td>2</td>\n",
       "      <td>5</td>\n",
       "      <td>d2700</td>\n",
       "    </tr>\n",
       "    <tr>\n",
       "      <th>5</th>\n",
       "      <td>6</td>\n",
       "      <td>2020-06-01</td>\n",
       "      <td>1006</td>\n",
       "      <td>3</td>\n",
       "      <td>6</td>\n",
       "      <td>d2800</td>\n",
       "    </tr>\n",
       "  </tbody>\n",
       "</table>\n",
       "</div>"
      ],
      "text/plain": [
       "   proc_id   proc_date  patient_id  provider_id  tooth_num proc_code\n",
       "0        1  2020-01-01        1001            1          1     d2300\n",
       "1        2  2020-02-01        1002            2          2     d2400\n",
       "2        3  2020-03-01        1003            3          3     d2500\n",
       "3        4  2020-04-01        1004            1          4     d2600\n",
       "4        5  2020-05-01        1005            2          5     d2700\n",
       "5        6  2020-06-01        1006            3          6     d2800"
      ]
     },
     "execution_count": 3,
     "metadata": {},
     "output_type": "execute_result"
    }
   ],
   "source": [
    "pysqldf('select * from procedures')"
   ]
  },
  {
   "cell_type": "markdown",
   "id": "2b10f22f-2660-4b65-b157-eba458a19d4f",
   "metadata": {},
   "source": [
    "## helper functions\n",
    "* add_spo: shortcut for add subject, predicate, object URIRefs to graph\n",
    "* add_spo: shortcut for add subject, predicate URIRefs and literal value to graph\n",
    "* sparql_results_to_df: converts sparql results into a dataframe\n",
    "* sparql_query_to_df: queries the graph and returns the results as a dataframe\n",
    "* add_table_metadata_to_graph: adds instances of tables and fields to graph\n",
    "* add_enums_to_graph: adds instances of enumerated values to graph"
   ]
  },
  {
   "cell_type": "code",
   "execution_count": 4,
   "id": "efb99cd1-b951-407d-8cc5-1e27ccf34eea",
   "metadata": {},
   "outputs": [],
   "source": [
    "def add_spo(graph: Graph, subj: Any, predicate: Any, obj: Any) -> Graph:\n",
    "    graph.add((URIRef(subj), URIRef(predicate), URIRef(obj)))\n",
    "    return graph"
   ]
  },
  {
   "cell_type": "code",
   "execution_count": 5,
   "id": "2ec39289-0a7a-479e-bec8-d4a3fafa197a",
   "metadata": {},
   "outputs": [],
   "source": [
    "def add_spv(graph: Graph, subj: Any, predicate: Any, val: Any) -> Graph:\n",
    "    graph.add((URIRef(subj), URIRef(predicate), Literal(val)))\n",
    "    return graph"
   ]
  },
  {
   "cell_type": "code",
   "execution_count": 6,
   "id": "ab7d3e75-c654-4694-b513-e86fa534f724",
   "metadata": {},
   "outputs": [],
   "source": [
    "def sparql_results_to_df(results: SPARQLResult, graph=Optional[Graph]) -> pds.DataFrame:\n",
    "    def set_value(x):\n",
    "        if x is None:\n",
    "            return None\n",
    "        elif graph is not None:\n",
    "            for n in graph.namespaces():\n",
    "                # each is a tuple of form (<prefix>, URIRef(...))\n",
    "                # e.g., ('dc', rdflib.term.URIRef('http://purl.org/dc/elements/1.1/'))\n",
    "                if str(x).startswith(str(n[1])):\n",
    "                    # replace uri with prefix\n",
    "                    return str(x).replace(n[1], n[0])\n",
    "                \n",
    "            # if it makes it here, no replacements occurred\n",
    "            return x.toPython()\n",
    "        else:\n",
    "            return x.toPython()\n",
    "\n",
    "    return \\\n",
    "        pds.DataFrame(\n",
    "            data=([set_value(x) for x in row] for row in results),\n",
    "            columns=[str(x) for x in results.vars]\n",
    "        )"
   ]
  },
  {
   "cell_type": "code",
   "execution_count": 7,
   "id": "2b02daf6-48e3-46db-91e6-b52258029dcc",
   "metadata": {},
   "outputs": [],
   "source": [
    "def sparql_query_to_df(query: str, graph: Graph, use_ns=True) -> pds.DataFrame:\n",
    "    results = graph.query(query)\n",
    "    if use_ns:\n",
    "        return sparql_results_to_df(results, graph)\n",
    "    else:\n",
    "        return sparql_results_to_df(results, None)"
   ]
  },
  {
   "cell_type": "code",
   "execution_count": 8,
   "id": "1194a0b3-2570-46bf-b483-d60f0e9fb166",
   "metadata": {},
   "outputs": [],
   "source": [
    "def add_table_metadata_to_graph(table: pds.DataFrame, \n",
    "                                table_name: str, \n",
    "                                graph: Graph, \n",
    "                                table_ns: Namespace, \n",
    "                                field_ns: Namespace, \n",
    "                                property_ns: Namespace) -> Graph:\n",
    "    # add table instance to graph\n",
    "    table_uri = table_ns[f'/{table_name}']\n",
    "    graph = add_spo(graph, table_uri, RDF.type, table_ns)\n",
    "    graph = add_spv(graph, table_uri, RDFS.label, table_name)\n",
    "        \n",
    "    # add each of the tables fields to graph as instances of fields\n",
    "    for field_name in table.columns:\n",
    "        field_name = f'{table_name}.{field_name}' # prepend table name to field name\n",
    "        uri = URIRef(field_ns[f'/{field_name}'])\n",
    "        graph = add_spo(graph, uri, RDF.type, field_ns)\n",
    "        grpah = add_spo(graph, uri, property_ns.member_of, table_uri)\n",
    "        graph = add_spv(graph, uri, RDFS.label, field_name)\n",
    "    \n",
    "    return graph"
   ]
  },
  {
   "cell_type": "code",
   "execution_count": 9,
   "id": "7c3ba120-1b33-452b-86ae-560138fab761",
   "metadata": {},
   "outputs": [],
   "source": [
    "def add_enums_to_graph(enums: List, \n",
    "                       table_name: str, \n",
    "                       field_name: str, \n",
    "                       graph: Graph, \n",
    "                       enum_ns: Namespace, \n",
    "                       base_ns: Namespace) -> Graph:\n",
    "\n",
    "    field_name = f'{table_name}.{field_name}' # prepend table name to field name\n",
    "    for enum in enums:\n",
    "        # build uri\n",
    "        uri = URIRef(enum_ns[f'/{field_name}#{enum}'])\n",
    "\n",
    "        # add instances\n",
    "        # Note: the literal value is added to the graph as well\n",
    "        graph = add_spo(graph, uri, RDF.type, enum_ns)\n",
    "        graph = add_spv(graph, uri, base_ns.has_value, enum)\n",
    "        graph = add_spv(graph, uri, RDFS.label, f'{field_name} {enum}')\n",
    "\n",
    "        # enums constrain values in fields, so add this informaton the graph\n",
    "        field = base_ns[f'/field/{field_name}']\n",
    "        graph = add_spo(graph, uri, base_ns.defines_values_in, field)\n",
    "        \n",
    "    return graph"
   ]
  },
  {
   "cell_type": "markdown",
   "id": "4541ff7a-5990-4152-a539-e9416a5b1509",
   "metadata": {
    "tags": []
   },
   "source": [
    "## load ontology"
   ]
  },
  {
   "cell_type": "code",
   "execution_count": 10,
   "id": "ce7f8e1c-1361-4f78-9b4d-aa9620767ccf",
   "metadata": {},
   "outputs": [],
   "source": [
    "g = Graph()\n",
    "g.parse('../ontology/data-field-punning.ttl', format='ttl')\n",
    "g.bind(\":\", Namespace(\"https://data-field-punning.owl/\")) # you can also use g.namespace_manager.bind(...)\n",
    "g.bind(\"field:\", Namespace(\"https://data-field-punning.owl/field/\"))\n",
    "g.bind(\"table:\", Namespace(\"https://data-field-punning.owl/table/\"))\n",
    "g.bind(\"enum:\", Namespace(\"https://data-field-punning.owl/enumerated_value/\"))"
   ]
  },
  {
   "cell_type": "markdown",
   "id": "26daf33c-438e-4fd4-9e8f-f769a4ddc78e",
   "metadata": {},
   "source": [
    "add some namespaces to use as shortcuts"
   ]
  },
  {
   "cell_type": "code",
   "execution_count": 11,
   "id": "3d110c55-90de-4b4c-998f-aff3c6c254e3",
   "metadata": {},
   "outputs": [],
   "source": [
    "ns = Namespace(\"https://data-field-punning.owl/\")\n",
    "field_ns = Namespace(ns.field)\n",
    "table_ns = Namespace(ns.table)\n",
    "enum_ns = Namespace(ns.enumerated_value)"
   ]
  },
  {
   "cell_type": "markdown",
   "id": "cd65cfdd-f56c-4f26-bfbd-208f1087ab60",
   "metadata": {
    "tags": []
   },
   "source": [
    "test simple sparql query"
   ]
  },
  {
   "cell_type": "code",
   "execution_count": 12,
   "id": "b163291e-dda6-451d-83ae-6472bdaae234",
   "metadata": {},
   "outputs": [
    {
     "data": {
      "text/html": [
       "<div>\n",
       "<style scoped>\n",
       "    .dataframe tbody tr th:only-of-type {\n",
       "        vertical-align: middle;\n",
       "    }\n",
       "\n",
       "    .dataframe tbody tr th {\n",
       "        vertical-align: top;\n",
       "    }\n",
       "\n",
       "    .dataframe thead th {\n",
       "        text-align: right;\n",
       "    }\n",
       "</style>\n",
       "<table border=\"1\" class=\"dataframe\">\n",
       "  <thead>\n",
       "    <tr style=\"text-align: right;\">\n",
       "      <th></th>\n",
       "      <th>cls</th>\n",
       "      <th>cls_label</th>\n",
       "    </tr>\n",
       "  </thead>\n",
       "  <tbody>\n",
       "    <tr>\n",
       "      <th>0</th>\n",
       "      <td>:canine</td>\n",
       "      <td>canine</td>\n",
       "    </tr>\n",
       "    <tr>\n",
       "      <th>1</th>\n",
       "      <td>:crown_restoration</td>\n",
       "      <td>crown restoration</td>\n",
       "    </tr>\n",
       "    <tr>\n",
       "      <th>2</th>\n",
       "      <td>:data_value</td>\n",
       "      <td>data value</td>\n",
       "    </tr>\n",
       "    <tr>\n",
       "      <th>3</th>\n",
       "      <td>:dentist</td>\n",
       "      <td>dentist</td>\n",
       "    </tr>\n",
       "    <tr>\n",
       "      <th>4</th>\n",
       "      <td>:entity</td>\n",
       "      <td>None</td>\n",
       "    </tr>\n",
       "  </tbody>\n",
       "</table>\n",
       "</div>"
      ],
      "text/plain": [
       "                  cls          cls_label\n",
       "0             :canine             canine\n",
       "1  :crown_restoration  crown restoration\n",
       "2         :data_value         data value\n",
       "3            :dentist            dentist\n",
       "4             :entity               None"
      ]
     },
     "execution_count": 12,
     "metadata": {},
     "output_type": "execute_result"
    }
   ],
   "source": [
    "q = \"\"\"\n",
    "select ?cls ?cls_label where {\n",
    "  ?cls a owl:Class\n",
    "  optional {?cls rdfs:label ?cls_label}\n",
    "}\n",
    "\"\"\"\n",
    "sparql_query_to_df(q, g).head() # note: I only display the first 5 results"
   ]
  },
  {
   "cell_type": "markdown",
   "id": "f2e7796f-20ec-4119-aa19-02b464564a75",
   "metadata": {},
   "source": [
    "## add table and field instances to graph"
   ]
  },
  {
   "cell_type": "code",
   "execution_count": 13,
   "id": "da514c4a-80af-4ee9-b23f-ac78b17487af",
   "metadata": {
    "tags": []
   },
   "outputs": [],
   "source": [
    "g = add_table_metadata_to_graph(patients, 'patients', g, table_ns, field_ns, ns)\n",
    "g = add_table_metadata_to_graph(providers, 'providers', g, table_ns, field_ns, ns)\n",
    "g = add_table_metadata_to_graph(procedures, 'procedures', g, table_ns, field_ns, ns)"
   ]
  },
  {
   "cell_type": "markdown",
   "id": "dc44bd9c-965f-4792-906e-2b830e52fddd",
   "metadata": {},
   "source": [
    "query to check that instaces where added"
   ]
  },
  {
   "cell_type": "code",
   "execution_count": 14,
   "id": "d5dfa17a-5221-4e72-a306-0b9b40de90e0",
   "metadata": {
    "tags": []
   },
   "outputs": [
    {
     "data": {
      "text/html": [
       "<div>\n",
       "<style scoped>\n",
       "    .dataframe tbody tr th:only-of-type {\n",
       "        vertical-align: middle;\n",
       "    }\n",
       "\n",
       "    .dataframe tbody tr th {\n",
       "        vertical-align: top;\n",
       "    }\n",
       "\n",
       "    .dataframe thead th {\n",
       "        text-align: right;\n",
       "    }\n",
       "</style>\n",
       "<table border=\"1\" class=\"dataframe\">\n",
       "  <thead>\n",
       "    <tr style=\"text-align: right;\">\n",
       "      <th></th>\n",
       "      <th>field</th>\n",
       "      <th>type</th>\n",
       "      <th>field_name</th>\n",
       "      <th>table</th>\n",
       "      <th>table_name</th>\n",
       "    </tr>\n",
       "  </thead>\n",
       "  <tbody>\n",
       "    <tr>\n",
       "      <th>0</th>\n",
       "      <td>:field/patients.patient_id</td>\n",
       "      <td>:field</td>\n",
       "      <td>patients.patient_id</td>\n",
       "      <td>:table/patients</td>\n",
       "      <td>patients</td>\n",
       "    </tr>\n",
       "    <tr>\n",
       "      <th>1</th>\n",
       "      <td>:field/patients.name</td>\n",
       "      <td>:field</td>\n",
       "      <td>patients.name</td>\n",
       "      <td>:table/patients</td>\n",
       "      <td>patients</td>\n",
       "    </tr>\n",
       "    <tr>\n",
       "      <th>2</th>\n",
       "      <td>:field/patients.gender</td>\n",
       "      <td>:field</td>\n",
       "      <td>patients.gender</td>\n",
       "      <td>:table/patients</td>\n",
       "      <td>patients</td>\n",
       "    </tr>\n",
       "    <tr>\n",
       "      <th>3</th>\n",
       "      <td>:field/patients.dob</td>\n",
       "      <td>:field</td>\n",
       "      <td>patients.dob</td>\n",
       "      <td>:table/patients</td>\n",
       "      <td>patients</td>\n",
       "    </tr>\n",
       "    <tr>\n",
       "      <th>4</th>\n",
       "      <td>:field/providers.provider_id</td>\n",
       "      <td>:field</td>\n",
       "      <td>providers.provider_id</td>\n",
       "      <td>:table/providers</td>\n",
       "      <td>providers</td>\n",
       "    </tr>\n",
       "    <tr>\n",
       "      <th>5</th>\n",
       "      <td>:field/providers.name</td>\n",
       "      <td>:field</td>\n",
       "      <td>providers.name</td>\n",
       "      <td>:table/providers</td>\n",
       "      <td>providers</td>\n",
       "    </tr>\n",
       "    <tr>\n",
       "      <th>6</th>\n",
       "      <td>:field/procedures.proc_id</td>\n",
       "      <td>:field</td>\n",
       "      <td>procedures.proc_id</td>\n",
       "      <td>:table/procedures</td>\n",
       "      <td>procedures</td>\n",
       "    </tr>\n",
       "    <tr>\n",
       "      <th>7</th>\n",
       "      <td>:field/procedures.proc_date</td>\n",
       "      <td>:field</td>\n",
       "      <td>procedures.proc_date</td>\n",
       "      <td>:table/procedures</td>\n",
       "      <td>procedures</td>\n",
       "    </tr>\n",
       "    <tr>\n",
       "      <th>8</th>\n",
       "      <td>:field/procedures.patient_id</td>\n",
       "      <td>:field</td>\n",
       "      <td>procedures.patient_id</td>\n",
       "      <td>:table/procedures</td>\n",
       "      <td>procedures</td>\n",
       "    </tr>\n",
       "    <tr>\n",
       "      <th>9</th>\n",
       "      <td>:field/procedures.provider_id</td>\n",
       "      <td>:field</td>\n",
       "      <td>procedures.provider_id</td>\n",
       "      <td>:table/procedures</td>\n",
       "      <td>procedures</td>\n",
       "    </tr>\n",
       "    <tr>\n",
       "      <th>10</th>\n",
       "      <td>:field/procedures.tooth_num</td>\n",
       "      <td>:field</td>\n",
       "      <td>procedures.tooth_num</td>\n",
       "      <td>:table/procedures</td>\n",
       "      <td>procedures</td>\n",
       "    </tr>\n",
       "    <tr>\n",
       "      <th>11</th>\n",
       "      <td>:field/procedures.proc_code</td>\n",
       "      <td>:field</td>\n",
       "      <td>procedures.proc_code</td>\n",
       "      <td>:table/procedures</td>\n",
       "      <td>procedures</td>\n",
       "    </tr>\n",
       "  </tbody>\n",
       "</table>\n",
       "</div>"
      ],
      "text/plain": [
       "                            field    type              field_name  \\\n",
       "0      :field/patients.patient_id  :field     patients.patient_id   \n",
       "1            :field/patients.name  :field           patients.name   \n",
       "2          :field/patients.gender  :field         patients.gender   \n",
       "3             :field/patients.dob  :field            patients.dob   \n",
       "4    :field/providers.provider_id  :field   providers.provider_id   \n",
       "5           :field/providers.name  :field          providers.name   \n",
       "6       :field/procedures.proc_id  :field      procedures.proc_id   \n",
       "7     :field/procedures.proc_date  :field    procedures.proc_date   \n",
       "8    :field/procedures.patient_id  :field   procedures.patient_id   \n",
       "9   :field/procedures.provider_id  :field  procedures.provider_id   \n",
       "10    :field/procedures.tooth_num  :field    procedures.tooth_num   \n",
       "11    :field/procedures.proc_code  :field    procedures.proc_code   \n",
       "\n",
       "                table  table_name  \n",
       "0     :table/patients    patients  \n",
       "1     :table/patients    patients  \n",
       "2     :table/patients    patients  \n",
       "3     :table/patients    patients  \n",
       "4    :table/providers   providers  \n",
       "5    :table/providers   providers  \n",
       "6   :table/procedures  procedures  \n",
       "7   :table/procedures  procedures  \n",
       "8   :table/procedures  procedures  \n",
       "9   :table/procedures  procedures  \n",
       "10  :table/procedures  procedures  \n",
       "11  :table/procedures  procedures  "
      ]
     },
     "execution_count": 14,
     "metadata": {},
     "output_type": "execute_result"
    }
   ],
   "source": [
    "q = \"\"\"\n",
    "prefix : <https://data-field-punning.owl/>\n",
    "select ?field ?type ?field_name ?table ?table_name where {\n",
    "  ?field a :field;\n",
    "         rdfs:label ?field_name;\n",
    "         rdf:type ?type;\n",
    "         :member_of ?table .\n",
    "  ?table rdfs:label ?table_name .\n",
    "}\n",
    "\"\"\"\n",
    "sparql_query_to_df(q, g)"
   ]
  },
  {
   "cell_type": "markdown",
   "id": "fa68f039-8446-489f-8b96-53339bb1c1b8",
   "metadata": {},
   "source": [
    "## add enumerated values\n",
    "The values in `patients.gender` and `procedures.proc_code` are enums. Let's add them to ontology shema.  \n",
    "Note: For demonstration purposes, I've made enums url safe. In a real-world scenario, the enums would need to be url encoded."
   ]
  },
  {
   "cell_type": "code",
   "execution_count": 15,
   "id": "d9fdba64-ec23-43e5-ba71-d35d5db587e5",
   "metadata": {},
   "outputs": [],
   "source": [
    "genders = list(pysqldf(\"select distinct gender from patients\")['gender'])\n",
    "proc_codes = list(pysqldf(\"select distinct proc_code from procedures\")['proc_code'])"
   ]
  },
  {
   "cell_type": "code",
   "execution_count": 16,
   "id": "4af2843f-db88-4688-995d-054a9e64d671",
   "metadata": {},
   "outputs": [],
   "source": [
    "g = add_enums_to_graph(genders, 'patients', 'gender', g, enum_ns, ns)\n",
    "g = add_enums_to_graph(proc_codes, 'procedures', 'proc_code', g, enum_ns, ns)"
   ]
  },
  {
   "cell_type": "markdown",
   "id": "93d7f6ee-a6c3-46cd-b1d5-f3f4a682fc06",
   "metadata": {},
   "source": [
    "query the enums added to graph"
   ]
  },
  {
   "cell_type": "code",
   "execution_count": 17,
   "id": "81774ec7-6e9b-4b64-8bb2-ec2e2561020e",
   "metadata": {},
   "outputs": [
    {
     "data": {
      "text/html": [
       "<div>\n",
       "<style scoped>\n",
       "    .dataframe tbody tr th:only-of-type {\n",
       "        vertical-align: middle;\n",
       "    }\n",
       "\n",
       "    .dataframe tbody tr th {\n",
       "        vertical-align: top;\n",
       "    }\n",
       "\n",
       "    .dataframe thead th {\n",
       "        text-align: right;\n",
       "    }\n",
       "</style>\n",
       "<table border=\"1\" class=\"dataframe\">\n",
       "  <thead>\n",
       "    <tr style=\"text-align: right;\">\n",
       "      <th></th>\n",
       "      <th>enum</th>\n",
       "      <th>label</th>\n",
       "      <th>value</th>\n",
       "      <th>defines</th>\n",
       "    </tr>\n",
       "  </thead>\n",
       "  <tbody>\n",
       "    <tr>\n",
       "      <th>0</th>\n",
       "      <td>:enumerated_value/patients.gender#M</td>\n",
       "      <td>patients.gender M</td>\n",
       "      <td>M</td>\n",
       "      <td>:/field/patients.gender</td>\n",
       "    </tr>\n",
       "    <tr>\n",
       "      <th>1</th>\n",
       "      <td>:enumerated_value/patients.gender#F</td>\n",
       "      <td>patients.gender F</td>\n",
       "      <td>F</td>\n",
       "      <td>:/field/patients.gender</td>\n",
       "    </tr>\n",
       "    <tr>\n",
       "      <th>2</th>\n",
       "      <td>:enumerated_value/procedures.proc_code#d2300</td>\n",
       "      <td>procedures.proc_code d2300</td>\n",
       "      <td>d2300</td>\n",
       "      <td>:/field/procedures.proc_code</td>\n",
       "    </tr>\n",
       "    <tr>\n",
       "      <th>3</th>\n",
       "      <td>:enumerated_value/procedures.proc_code#d2400</td>\n",
       "      <td>procedures.proc_code d2400</td>\n",
       "      <td>d2400</td>\n",
       "      <td>:/field/procedures.proc_code</td>\n",
       "    </tr>\n",
       "    <tr>\n",
       "      <th>4</th>\n",
       "      <td>:enumerated_value/procedures.proc_code#d2500</td>\n",
       "      <td>procedures.proc_code d2500</td>\n",
       "      <td>d2500</td>\n",
       "      <td>:/field/procedures.proc_code</td>\n",
       "    </tr>\n",
       "    <tr>\n",
       "      <th>5</th>\n",
       "      <td>:enumerated_value/procedures.proc_code#d2600</td>\n",
       "      <td>procedures.proc_code d2600</td>\n",
       "      <td>d2600</td>\n",
       "      <td>:/field/procedures.proc_code</td>\n",
       "    </tr>\n",
       "    <tr>\n",
       "      <th>6</th>\n",
       "      <td>:enumerated_value/procedures.proc_code#d2700</td>\n",
       "      <td>procedures.proc_code d2700</td>\n",
       "      <td>d2700</td>\n",
       "      <td>:/field/procedures.proc_code</td>\n",
       "    </tr>\n",
       "    <tr>\n",
       "      <th>7</th>\n",
       "      <td>:enumerated_value/procedures.proc_code#d2800</td>\n",
       "      <td>procedures.proc_code d2800</td>\n",
       "      <td>d2800</td>\n",
       "      <td>:/field/procedures.proc_code</td>\n",
       "    </tr>\n",
       "  </tbody>\n",
       "</table>\n",
       "</div>"
      ],
      "text/plain": [
       "                                           enum                       label  \\\n",
       "0           :enumerated_value/patients.gender#M           patients.gender M   \n",
       "1           :enumerated_value/patients.gender#F           patients.gender F   \n",
       "2  :enumerated_value/procedures.proc_code#d2300  procedures.proc_code d2300   \n",
       "3  :enumerated_value/procedures.proc_code#d2400  procedures.proc_code d2400   \n",
       "4  :enumerated_value/procedures.proc_code#d2500  procedures.proc_code d2500   \n",
       "5  :enumerated_value/procedures.proc_code#d2600  procedures.proc_code d2600   \n",
       "6  :enumerated_value/procedures.proc_code#d2700  procedures.proc_code d2700   \n",
       "7  :enumerated_value/procedures.proc_code#d2800  procedures.proc_code d2800   \n",
       "\n",
       "   value                       defines  \n",
       "0      M       :/field/patients.gender  \n",
       "1      F       :/field/patients.gender  \n",
       "2  d2300  :/field/procedures.proc_code  \n",
       "3  d2400  :/field/procedures.proc_code  \n",
       "4  d2500  :/field/procedures.proc_code  \n",
       "5  d2600  :/field/procedures.proc_code  \n",
       "6  d2700  :/field/procedures.proc_code  \n",
       "7  d2800  :/field/procedures.proc_code  "
      ]
     },
     "execution_count": 17,
     "metadata": {},
     "output_type": "execute_result"
    }
   ],
   "source": [
    "q = \"\"\"\n",
    "prefix : <https://data-field-punning.owl/>\n",
    "select ?enum ?label ?value ?defines where {\n",
    "  ?enum a :enumerated_value;\n",
    "    rdfs:label ?label;\n",
    "    :has_value ?value;\n",
    "    :defines_values_in ?defines .\n",
    "}\n",
    "\"\"\"\n",
    "sparql_query_to_df(q, g)"
   ]
  },
  {
   "cell_type": "markdown",
   "id": "c75b8c3f-9673-4b51-b3bf-77ee59bf467f",
   "metadata": {},
   "source": [
    "## add what the data represents\n",
    "The data in the tables represent things in the world. We need to connect the data to their representations.  \n",
    "I created a simple mapping between IRIs and the classes represented by the them. This could also be done using a `robot` template or `SSSOM` mapping file.  \n",
    "Some of mappings are at the field level. For example, the patient_id field represents a patient in general. Other mappings are a the level of enumaterated values. For example, the value \"F\" in the patient.gender field represents a female.  \n",
    "**Note**: This mapping involves punning the classes as inviduals b/c the represents object property holds between individuals."
   ]
  },
  {
   "cell_type": "code",
   "execution_count": 18,
   "id": "620d4a67-40a9-48f1-9695-d75fa04c2aec",
   "metadata": {},
   "outputs": [],
   "source": [
    "for idx, iri, entity in pds.read_csv('../data/data_representations.csv').itertuples():\n",
    "    uri = URIRef(iri)\n",
    "    entity_uri = URIRef(entity)\n",
    "    g.add((uri, ns.represents, entity_uri))"
   ]
  },
  {
   "cell_type": "code",
   "execution_count": 19,
   "id": "05fe633e-ff4f-45cf-912a-5b1b73fbd032",
   "metadata": {},
   "outputs": [
    {
     "data": {
      "text/html": [
       "<div>\n",
       "<style scoped>\n",
       "    .dataframe tbody tr th:only-of-type {\n",
       "        vertical-align: middle;\n",
       "    }\n",
       "\n",
       "    .dataframe tbody tr th {\n",
       "        vertical-align: top;\n",
       "    }\n",
       "\n",
       "    .dataframe thead th {\n",
       "        text-align: right;\n",
       "    }\n",
       "</style>\n",
       "<table border=\"1\" class=\"dataframe\">\n",
       "  <thead>\n",
       "    <tr style=\"text-align: right;\">\n",
       "      <th></th>\n",
       "      <th>uri</th>\n",
       "      <th>label</th>\n",
       "      <th>represents</th>\n",
       "    </tr>\n",
       "  </thead>\n",
       "  <tbody>\n",
       "    <tr>\n",
       "      <th>0</th>\n",
       "      <td>:field/patients.patient_id</td>\n",
       "      <td>patients.patient_id</td>\n",
       "      <td>:patient</td>\n",
       "    </tr>\n",
       "    <tr>\n",
       "      <th>1</th>\n",
       "      <td>:field/procedures.patient_id</td>\n",
       "      <td>procedures.patient_id</td>\n",
       "      <td>:patient</td>\n",
       "    </tr>\n",
       "    <tr>\n",
       "      <th>2</th>\n",
       "      <td>:field/providers.provider_id</td>\n",
       "      <td>providers.provider_id</td>\n",
       "      <td>:dentist</td>\n",
       "    </tr>\n",
       "    <tr>\n",
       "      <th>3</th>\n",
       "      <td>:field/procedures.provider_id</td>\n",
       "      <td>procedures.provider_id</td>\n",
       "      <td>:dentist</td>\n",
       "    </tr>\n",
       "    <tr>\n",
       "      <th>4</th>\n",
       "      <td>:field/procedures.proc_id</td>\n",
       "      <td>procedures.proc_id</td>\n",
       "      <td>:procedure</td>\n",
       "    </tr>\n",
       "    <tr>\n",
       "      <th>5</th>\n",
       "      <td>:field/procedures.proc_code</td>\n",
       "      <td>procedures.proc_code</td>\n",
       "      <td>:procedure</td>\n",
       "    </tr>\n",
       "    <tr>\n",
       "      <th>6</th>\n",
       "      <td>:field/procedures.tooth_num</td>\n",
       "      <td>procedures.tooth_num</td>\n",
       "      <td>:tooth</td>\n",
       "    </tr>\n",
       "    <tr>\n",
       "      <th>7</th>\n",
       "      <td>:enumerated_value/patients.gender#M</td>\n",
       "      <td>patients.gender M</td>\n",
       "      <td>:male_patient</td>\n",
       "    </tr>\n",
       "    <tr>\n",
       "      <th>8</th>\n",
       "      <td>:enumerated_value/patients.gender#F</td>\n",
       "      <td>patients.gender F</td>\n",
       "      <td>:female_patient</td>\n",
       "    </tr>\n",
       "    <tr>\n",
       "      <th>9</th>\n",
       "      <td>:enumerated_value/procedures.proc_code#d2300</td>\n",
       "      <td>procedures.proc_code d2300</td>\n",
       "      <td>:crown_restoration</td>\n",
       "    </tr>\n",
       "    <tr>\n",
       "      <th>10</th>\n",
       "      <td>:enumerated_value/procedures.proc_code#d2400</td>\n",
       "      <td>procedures.proc_code d2400</td>\n",
       "      <td>:inlay</td>\n",
       "    </tr>\n",
       "    <tr>\n",
       "      <th>11</th>\n",
       "      <td>:enumerated_value/procedures.proc_code#d2500</td>\n",
       "      <td>procedures.proc_code d2500</td>\n",
       "      <td>:onlay</td>\n",
       "    </tr>\n",
       "    <tr>\n",
       "      <th>12</th>\n",
       "      <td>:enumerated_value/procedures.proc_code#d2600</td>\n",
       "      <td>procedures.proc_code d2600</td>\n",
       "      <td>:root_canal</td>\n",
       "    </tr>\n",
       "    <tr>\n",
       "      <th>13</th>\n",
       "      <td>:enumerated_value/procedures.proc_code#d2700</td>\n",
       "      <td>procedures.proc_code d2700</td>\n",
       "      <td>:tooth_extraction</td>\n",
       "    </tr>\n",
       "    <tr>\n",
       "      <th>14</th>\n",
       "      <td>:enumerated_value/procedures.proc_code#d2800</td>\n",
       "      <td>procedures.proc_code d2800</td>\n",
       "      <td>:filling_restoration</td>\n",
       "    </tr>\n",
       "  </tbody>\n",
       "</table>\n",
       "</div>"
      ],
      "text/plain": [
       "                                             uri                       label  \\\n",
       "0                     :field/patients.patient_id         patients.patient_id   \n",
       "1                   :field/procedures.patient_id       procedures.patient_id   \n",
       "2                   :field/providers.provider_id       providers.provider_id   \n",
       "3                  :field/procedures.provider_id      procedures.provider_id   \n",
       "4                      :field/procedures.proc_id          procedures.proc_id   \n",
       "5                    :field/procedures.proc_code        procedures.proc_code   \n",
       "6                    :field/procedures.tooth_num        procedures.tooth_num   \n",
       "7            :enumerated_value/patients.gender#M           patients.gender M   \n",
       "8            :enumerated_value/patients.gender#F           patients.gender F   \n",
       "9   :enumerated_value/procedures.proc_code#d2300  procedures.proc_code d2300   \n",
       "10  :enumerated_value/procedures.proc_code#d2400  procedures.proc_code d2400   \n",
       "11  :enumerated_value/procedures.proc_code#d2500  procedures.proc_code d2500   \n",
       "12  :enumerated_value/procedures.proc_code#d2600  procedures.proc_code d2600   \n",
       "13  :enumerated_value/procedures.proc_code#d2700  procedures.proc_code d2700   \n",
       "14  :enumerated_value/procedures.proc_code#d2800  procedures.proc_code d2800   \n",
       "\n",
       "              represents  \n",
       "0               :patient  \n",
       "1               :patient  \n",
       "2               :dentist  \n",
       "3               :dentist  \n",
       "4             :procedure  \n",
       "5             :procedure  \n",
       "6                 :tooth  \n",
       "7          :male_patient  \n",
       "8        :female_patient  \n",
       "9     :crown_restoration  \n",
       "10                :inlay  \n",
       "11                :onlay  \n",
       "12           :root_canal  \n",
       "13     :tooth_extraction  \n",
       "14  :filling_restoration  "
      ]
     },
     "execution_count": 19,
     "metadata": {},
     "output_type": "execute_result"
    }
   ],
   "source": [
    "q = \"\"\"\n",
    "prefix : <https://data-field-punning.owl/>\n",
    "select ?uri ?label ?represents where {\n",
    "    ?uri :represents ?represents .\n",
    "    optional {\n",
    "      ?uri rdfs:label ?label\n",
    "    }\n",
    "}\n",
    "\"\"\"\n",
    "sparql_query_to_df(q, g)"
   ]
  },
  {
   "cell_type": "markdown",
   "id": "8ab40650-f951-4b0a-aeb3-834b7166e8c1",
   "metadata": {},
   "source": [
    "## use representations to form sql queries"
   ]
  },
  {
   "cell_type": "markdown",
   "id": "9ce8afcf-9ac2-4bf3-a625-0b30274433ec",
   "metadata": {},
   "source": [
    "example 1: get every field name that represents a person.  \n",
    "note: This finds all fields that represent a subclass of `person`."
   ]
  },
  {
   "cell_type": "code",
   "execution_count": 187,
   "id": "9729d2df-57e2-474c-9e76-72f631e111d8",
   "metadata": {},
   "outputs": [
    {
     "data": {
      "text/html": [
       "<div>\n",
       "<style scoped>\n",
       "    .dataframe tbody tr th:only-of-type {\n",
       "        vertical-align: middle;\n",
       "    }\n",
       "\n",
       "    .dataframe tbody tr th {\n",
       "        vertical-align: top;\n",
       "    }\n",
       "\n",
       "    .dataframe thead th {\n",
       "        text-align: right;\n",
       "    }\n",
       "</style>\n",
       "<table border=\"1\" class=\"dataframe\">\n",
       "  <thead>\n",
       "    <tr style=\"text-align: right;\">\n",
       "      <th></th>\n",
       "      <th>table_name</th>\n",
       "      <th>field_name</th>\n",
       "      <th>cls_names</th>\n",
       "    </tr>\n",
       "  </thead>\n",
       "  <tbody>\n",
       "    <tr>\n",
       "      <th>0</th>\n",
       "      <td>patients</td>\n",
       "      <td>patients.patient_id</td>\n",
       "      <td>patient</td>\n",
       "    </tr>\n",
       "    <tr>\n",
       "      <th>1</th>\n",
       "      <td>providers</td>\n",
       "      <td>providers.provider_id</td>\n",
       "      <td>dentist</td>\n",
       "    </tr>\n",
       "    <tr>\n",
       "      <th>2</th>\n",
       "      <td>procedures</td>\n",
       "      <td>procedures.patient_id</td>\n",
       "      <td>patient</td>\n",
       "    </tr>\n",
       "    <tr>\n",
       "      <th>3</th>\n",
       "      <td>procedures</td>\n",
       "      <td>procedures.provider_id</td>\n",
       "      <td>dentist</td>\n",
       "    </tr>\n",
       "  </tbody>\n",
       "</table>\n",
       "</div>"
      ],
      "text/plain": [
       "   table_name              field_name cls_names\n",
       "0    patients     patients.patient_id   patient\n",
       "1   providers   providers.provider_id   dentist\n",
       "2  procedures   procedures.patient_id   patient\n",
       "3  procedures  procedures.provider_id   dentist"
      ]
     },
     "execution_count": 187,
     "metadata": {},
     "output_type": "execute_result"
    }
   ],
   "source": [
    "q = \"\"\"\n",
    "prefix : <https://data-field-punning.owl/>\n",
    "select distinct ?table_name ?field_name (group_concat(?cls_name) as ?cls_names) where {\n",
    "    ?cls rdfs:subClassOf :person;\n",
    "         rdfs:label ?cls_label .\n",
    "         \n",
    "    ?field a :field;\n",
    "        :represents ?cls;\n",
    "        rdfs:label ?field_name;\n",
    "        :member_of [a :table; rdfs:label ?table_name] .\n",
    "        \n",
    "    bind(replace(?cls_label, \" \", \"_\") as ?cls_name)\n",
    "}\n",
    "group by ?table_name ?field_name\n",
    "\"\"\"\n",
    "field_df = sparql_query_to_df(q, g)\n",
    "field_df"
   ]
  },
  {
   "cell_type": "markdown",
   "id": "3623c4ea-5c9e-4f63-ad43-86cda65c5bfd",
   "metadata": {},
   "source": [
    "build sql query"
   ]
  },
  {
   "cell_type": "code",
   "execution_count": 188,
   "id": "7da33518-c1c5-4482-a721-9bafc7056420",
   "metadata": {},
   "outputs": [
    {
     "name": "stdout",
     "output_type": "stream",
     "text": [
      "patients patients.patient_id patient\n",
      "providers providers.provider_id dentist\n",
      "procedures procedures.patient_id patient\n",
      "procedures procedures.provider_id dentist\n"
     ]
    }
   ],
   "source": [
    "table_type_dict = {}\n",
    "\n",
    "for idx, table_name, field_name, cls_name in field_df.itertuples():\n",
    "    print(table_name, field_name, cls_name)\n",
    "    "
   ]
  },
  {
   "cell_type": "code",
   "execution_count": 191,
   "id": "f21d01d1-62c6-4ec8-aea1-b69bb1f37ee2",
   "metadata": {},
   "outputs": [
    {
     "data": {
      "text/plain": [
       "{'dentist': ['providers.provider_id', 'procedures.provider_id'],\n",
       " 'patient': ['patients.patient_id', 'procedures.patient_id']}"
      ]
     },
     "execution_count": 191,
     "metadata": {},
     "output_type": "execute_result"
    }
   ],
   "source": [
    "schema_dict = {\n",
    "    'field_names': [],\n",
    "    'table_names': [],\n",
    "    'type_matches': []\n",
    "}\n",
    "\n",
    "joins = []\n",
    "type_to_field = {}\n",
    "temp_dict = {}\n",
    "\n",
    "for group in field_df.groupby('table_name'):\n",
    "    group_table = group[0]\n",
    "    group_df = group[1]\n",
    "    schema_dict['field_names'].extend(list(group_df['field_name']))\n",
    "    schema_dict['table_names'].append(group_table)\n",
    "\n",
    "for group in field_df.groupby('cls_names'):\n",
    "    group_cls = group[0]\n",
    "    group_df = group[1]\n",
    "    # print(list(zip(list(group_df['table_name']), list(group_df['field_name']))))\n",
    "    type_to_field[group_cls] = list(group_df['field_name'])\n",
    "    temp_dict[group_cls] = list(zip(list(group_df['table_name']), list(group_df['field_name'])))\n",
    "    # schema_dict['type_matches'].append(list(group_df['field_name']))\n",
    "    # schema_dict['type_matches'].append(list(zip(list(group_df['table_name']), list(group_df['field_name']))))\n",
    "    \n",
    "# print('select', ', '.join(schema_dict['field_names']))\n",
    "# print('from',  ', '.join(schema_dict['table_names']))\n",
    "type_to_field\n",
    "# temp_dict"
   ]
  },
  {
   "cell_type": "code",
   "execution_count": 192,
   "id": "f4d948ce-6ef1-44da-84df-c419822532d1",
   "metadata": {
    "tags": []
   },
   "outputs": [
    {
     "data": {
      "text/plain": [
       "[('procedures.provider_id', 'procedures.provider_id'),\n",
       " ('procedures.provider_id', 'patients.provider_id'),\n",
       " ('procedures.patient_id', 'procedures.patient_id')]"
      ]
     },
     "execution_count": 192,
     "metadata": {},
     "output_type": "execute_result"
    }
   ],
   "source": [
    "type_to_field['dentist']= ['providers.provider_id', 'procedures.provider_id', 'patients.provider_id']\n",
    "type_pairs = []\n",
    "for k,v in type_to_field.items():\n",
    "    if len(v) > 1:\n",
    "        # print(list(accumulate(v, lambda f1, f2: f\"on {f1} = {f2}\"))) # doesnt' work\n",
    "        for i in range(len(v) - 1):\n",
    "            # print(\"on\", v[i], \"=\", v[i + 1])\n",
    "            type_pairs.append((v[1], v[i + 1]))\n",
    "type_pairs           "
   ]
  },
  {
   "cell_type": "code",
   "execution_count": 193,
   "id": "9f6e440f-627e-4323-a287-c839fcfcdb52",
   "metadata": {},
   "outputs": [
    {
     "data": {
      "text/plain": [
       "{'dentist': [('providers', 'providers.provider_id'),\n",
       "  ('procedures', 'procedures.provider_id')],\n",
       " 'patient': [('patients', 'patients.patient_id'),\n",
       "  ('procedures', 'procedures.patient_id')]}"
      ]
     },
     "execution_count": 193,
     "metadata": {},
     "output_type": "execute_result"
    }
   ],
   "source": [
    "temp_dict"
   ]
  },
  {
   "cell_type": "code",
   "execution_count": 194,
   "id": "c6765cae-6167-44c7-afd7-d83fb7fb22cf",
   "metadata": {},
   "outputs": [
    {
     "name": "stdout",
     "output_type": "stream",
     "text": [
      "inner join procedures on providers.provider_id = procedures.provider_id\n",
      "inner join procedures on patients.patient_id = procedures.patient_id\n"
     ]
    }
   ],
   "source": [
    "# print(\"from\", temp_dict[0][0])\n",
    "for k,v in temp_dict.items():\n",
    "    if len(v) > 1:\n",
    "        for i in range(len(v) - 1):\n",
    "            left_field = v[i][1]\n",
    "            right_field = v[i + 1][1]\n",
    "            print(\"inner join\",  v[i + 1][0], \"on\", left_field, \"=\", right_field)"
   ]
  },
  {
   "cell_type": "code",
   "execution_count": 195,
   "id": "7a4622b8-5502-4ab3-9f98-a184f70739d4",
   "metadata": {},
   "outputs": [],
   "source": [
    "foo = {}\n",
    "foo[(1, 2)] = 'bar'"
   ]
  },
  {
   "cell_type": "code",
   "execution_count": 196,
   "id": "61792df3-ac91-411b-bede-665eb6514e16",
   "metadata": {},
   "outputs": [
    {
     "data": {
      "text/plain": [
       "{(1, 2): 'bar'}"
      ]
     },
     "execution_count": 196,
     "metadata": {},
     "output_type": "execute_result"
    }
   ],
   "source": [
    "foo"
   ]
  },
  {
   "cell_type": "code",
   "execution_count": 197,
   "id": "96fcc9d4-f966-4d9c-8461-4602f512b048",
   "metadata": {
    "tags": []
   },
   "outputs": [],
   "source": [
    "temp = schema_dict['type_matches'].copy()"
   ]
  },
  {
   "cell_type": "code",
   "execution_count": 198,
   "id": "795ba3da-b580-4f76-823b-54f54eec45ee",
   "metadata": {},
   "outputs": [
    {
     "data": {
      "text/plain": [
       "[]"
      ]
     },
     "execution_count": 198,
     "metadata": {},
     "output_type": "execute_result"
    }
   ],
   "source": [
    "temp"
   ]
  },
  {
   "cell_type": "code",
   "execution_count": 199,
   "id": "55834f4a-78e8-4a02-be0e-67cd5005c3ba",
   "metadata": {},
   "outputs": [
    {
     "data": {
      "text/plain": [
       "'from patients'"
      ]
     },
     "execution_count": 199,
     "metadata": {},
     "output_type": "execute_result"
    }
   ],
   "source": [
    "from_clause = f\"from {schema_dict['table_names'][0]}\"\n",
    "from_clause"
   ]
  },
  {
   "cell_type": "code",
   "execution_count": 200,
   "id": "773201fb-bdb6-4d2a-9284-d3de49258aa2",
   "metadata": {},
   "outputs": [
    {
     "name": "stdout",
     "output_type": "stream",
     "text": [
      "inner join procedures\n",
      "inner join providers\n"
     ]
    }
   ],
   "source": [
    "if len(schema_dict['table_names']) > 1:\n",
    "    for name in schema_dict['table_names'][1:]:\n",
    "        print(f\"inner join {name}\")"
   ]
  },
  {
   "cell_type": "code",
   "execution_count": 201,
   "id": "9e8441db-ca2c-47b5-8bb5-2f3ad4d66e17",
   "metadata": {},
   "outputs": [
    {
     "name": "stdout",
     "output_type": "stream",
     "text": [
      "group 0 ('patients',   table_name           field_name cls_names\n",
      "0   patients  patients.patient_id   patient)\n",
      "group 1 ('procedures',    table_name              field_name cls_names\n",
      "2  procedures   procedures.patient_id   patient\n",
      "3  procedures  procedures.provider_id   dentist)\n",
      "group 2 ('providers',   table_name             field_name cls_names\n",
      "1  providers  providers.provider_id   dentist)\n"
     ]
    }
   ],
   "source": [
    "for i, group in enumerate(field_df.groupby('table_name')):\n",
    "    print(f'group {i}', group)"
   ]
  },
  {
   "cell_type": "code",
   "execution_count": 202,
   "id": "21d329b9-4c7e-48b7-ad79-9c537c167d8a",
   "metadata": {},
   "outputs": [
    {
     "data": {
      "text/plain": [
       "{'patients': {'clause': 'from patients',\n",
       "  'field_names': ['patients.patient_id']},\n",
       " 'procedures': {'clause': 'inner join procedures',\n",
       "  'field_names': ['procedures.patient_id', 'procedures.provider_id']},\n",
       " 'providers': {'clause': 'inner join providers',\n",
       "  'field_names': ['providers.provider_id']}}"
      ]
     },
     "execution_count": 202,
     "metadata": {},
     "output_type": "execute_result"
    }
   ],
   "source": [
    "table_dict = {}\n",
    "for idx, group in enumerate(field_df.groupby('table_name')):\n",
    "    group_id  = group[0]\n",
    "    group_df = group[1]\n",
    "    \n",
    "    field_names = list(group_df['field_name'])\n",
    "    if idx ==0:\n",
    "        table_dict[group_id] = {'clause': f'from {group_id}', 'field_names': field_names}\n",
    "    else:\n",
    "        table_dict[group_id] = {'clause': f'inner join {group_id}', 'field_names': field_names}\n",
    "    # print(group_df)\n",
    "table_dict"
   ]
  },
  {
   "cell_type": "code",
   "execution_count": 203,
   "id": "c28db31d-b111-4edc-bef7-c84da3f59bbe",
   "metadata": {},
   "outputs": [],
   "source": [
    "# field_df.to_dict(orient='list')"
   ]
  },
  {
   "cell_type": "code",
   "execution_count": 204,
   "id": "f0c57071-d360-443b-b37b-18e353cfbc22",
   "metadata": {},
   "outputs": [],
   "source": [
    "# field_df.to_dict(orient='series')"
   ]
  },
  {
   "cell_type": "code",
   "execution_count": 205,
   "id": "ac8474b5-ba3d-4a7b-86f0-e9e859a5c68e",
   "metadata": {},
   "outputs": [],
   "source": [
    "# field_df.to_dict(orient='split')"
   ]
  },
  {
   "cell_type": "code",
   "execution_count": 206,
   "id": "ea1d8c74-199b-4705-9ba9-2a4386e22d4b",
   "metadata": {},
   "outputs": [],
   "source": [
    "# field_df.to_dict(orient='tight')"
   ]
  },
  {
   "cell_type": "code",
   "execution_count": 207,
   "id": "0c53d1d8-e9aa-4fd0-b518-52e093936ee7",
   "metadata": {},
   "outputs": [
    {
     "data": {
      "text/plain": [
       "[{'table_name': 'patients',\n",
       "  'field_name': 'patients.patient_id',\n",
       "  'cls_names': 'patient'},\n",
       " {'table_name': 'providers',\n",
       "  'field_name': 'providers.provider_id',\n",
       "  'cls_names': 'dentist'},\n",
       " {'table_name': 'procedures',\n",
       "  'field_name': 'procedures.patient_id',\n",
       "  'cls_names': 'patient'},\n",
       " {'table_name': 'procedures',\n",
       "  'field_name': 'procedures.provider_id',\n",
       "  'cls_names': 'dentist'}]"
      ]
     },
     "execution_count": 207,
     "metadata": {},
     "output_type": "execute_result"
    }
   ],
   "source": [
    "field_df.to_dict(orient='records')"
   ]
  },
  {
   "cell_type": "code",
   "execution_count": 208,
   "id": "d66f0e6d-4ffe-4bc6-ba85-452a47be9c6a",
   "metadata": {},
   "outputs": [],
   "source": [
    "# field_df.to_dict(orient='index')"
   ]
  },
  {
   "cell_type": "code",
   "execution_count": 209,
   "id": "c19e1995-0a0b-4614-ba52-70eaa416a382",
   "metadata": {},
   "outputs": [
    {
     "data": {
      "text/html": [
       "<div>\n",
       "<style scoped>\n",
       "    .dataframe tbody tr th:only-of-type {\n",
       "        vertical-align: middle;\n",
       "    }\n",
       "\n",
       "    .dataframe tbody tr th {\n",
       "        vertical-align: top;\n",
       "    }\n",
       "\n",
       "    .dataframe thead th {\n",
       "        text-align: right;\n",
       "    }\n",
       "</style>\n",
       "<table border=\"1\" class=\"dataframe\">\n",
       "  <thead>\n",
       "    <tr style=\"text-align: right;\">\n",
       "      <th></th>\n",
       "      <th>field_name</th>\n",
       "      <th>cls_names</th>\n",
       "    </tr>\n",
       "    <tr>\n",
       "      <th>table_name</th>\n",
       "      <th></th>\n",
       "      <th></th>\n",
       "    </tr>\n",
       "  </thead>\n",
       "  <tbody>\n",
       "    <tr>\n",
       "      <th>procedures</th>\n",
       "      <td>procedures.patient_id</td>\n",
       "      <td>patient</td>\n",
       "    </tr>\n",
       "    <tr>\n",
       "      <th>procedures</th>\n",
       "      <td>procedures.provider_id</td>\n",
       "      <td>dentist</td>\n",
       "    </tr>\n",
       "  </tbody>\n",
       "</table>\n",
       "</div>"
      ],
      "text/plain": [
       "                        field_name cls_names\n",
       "table_name                                  \n",
       "procedures   procedures.patient_id   patient\n",
       "procedures  procedures.provider_id   dentist"
      ]
     },
     "execution_count": 209,
     "metadata": {},
     "output_type": "execute_result"
    }
   ],
   "source": [
    "field_df.set_index('table_name').loc['procedures'][['field_name', 'cls_names']]"
   ]
  },
  {
   "cell_type": "code",
   "execution_count": 210,
   "id": "aa3395e2-9116-43a0-9654-e0f29558dd30",
   "metadata": {},
   "outputs": [
    {
     "data": {
      "text/plain": [
       "{'patients.patient_id': {'table_name': 'patients', 'cls_names': 'patient'},\n",
       " 'providers.provider_id': {'table_name': 'providers', 'cls_names': 'dentist'},\n",
       " 'procedures.patient_id': {'table_name': 'procedures', 'cls_names': 'patient'},\n",
       " 'procedures.provider_id': {'table_name': 'procedures',\n",
       "  'cls_names': 'dentist'}}"
      ]
     },
     "execution_count": 210,
     "metadata": {},
     "output_type": "execute_result"
    }
   ],
   "source": [
    "field_df.set_index('field_name').to_dict(orient='index')"
   ]
  },
  {
   "cell_type": "code",
   "execution_count": 211,
   "id": "c9c6c828-77c6-419c-b6a9-6d6ad65aaa3a",
   "metadata": {},
   "outputs": [
    {
     "data": {
      "text/plain": [
       "{'patients.patient_id': {'table_name': 'patients'},\n",
       " 'providers.provider_id': {'table_name': 'providers'},\n",
       " 'procedures.patient_id': {'table_name': 'procedures'},\n",
       " 'procedures.provider_id': {'table_name': 'procedures'}}"
      ]
     },
     "execution_count": 211,
     "metadata": {},
     "output_type": "execute_result"
    }
   ],
   "source": [
    "filed_to_table_dict = field_df[['field_name', 'table_name']].set_index('field_name').to_dict(orient='index')\n",
    "filed_to_table_dict"
   ]
  },
  {
   "cell_type": "code",
   "execution_count": 220,
   "id": "e7e22609-4664-4e42-a49f-86b7cc70c92e",
   "metadata": {},
   "outputs": [
    {
     "data": {
      "text/html": [
       "<div>\n",
       "<style scoped>\n",
       "    .dataframe tbody tr th:only-of-type {\n",
       "        vertical-align: middle;\n",
       "    }\n",
       "\n",
       "    .dataframe tbody tr th {\n",
       "        vertical-align: top;\n",
       "    }\n",
       "\n",
       "    .dataframe thead th {\n",
       "        text-align: right;\n",
       "    }\n",
       "</style>\n",
       "<table border=\"1\" class=\"dataframe\">\n",
       "  <thead>\n",
       "    <tr style=\"text-align: right;\">\n",
       "      <th></th>\n",
       "      <th></th>\n",
       "      <th>cls_names</th>\n",
       "    </tr>\n",
       "    <tr>\n",
       "      <th>table_name</th>\n",
       "      <th>field_name</th>\n",
       "      <th></th>\n",
       "    </tr>\n",
       "  </thead>\n",
       "  <tbody>\n",
       "    <tr>\n",
       "      <th>patients</th>\n",
       "      <th>patients.patient_id</th>\n",
       "      <td>patient</td>\n",
       "    </tr>\n",
       "    <tr>\n",
       "      <th rowspan=\"2\" valign=\"top\">procedures</th>\n",
       "      <th>procedures.patient_id</th>\n",
       "      <td>patient</td>\n",
       "    </tr>\n",
       "    <tr>\n",
       "      <th>procedures.provider_id</th>\n",
       "      <td>dentist</td>\n",
       "    </tr>\n",
       "    <tr>\n",
       "      <th>providers</th>\n",
       "      <th>providers.provider_id</th>\n",
       "      <td>dentist</td>\n",
       "    </tr>\n",
       "  </tbody>\n",
       "</table>\n",
       "</div>"
      ],
      "text/plain": [
       "                                  cls_names\n",
       "table_name field_name                      \n",
       "patients   patients.patient_id      patient\n",
       "procedures procedures.patient_id    patient\n",
       "           procedures.provider_id   dentist\n",
       "providers  providers.provider_id    dentist"
      ]
     },
     "execution_count": 220,
     "metadata": {},
     "output_type": "execute_result"
    }
   ],
   "source": [
    "multi = field_df.set_index(['table_name', 'field_name']).sort_index()\n",
    "multi"
   ]
  },
  {
   "cell_type": "code",
   "execution_count": 224,
   "id": "a89bd21c-8d7c-4334-aaf8-ba47938195b9",
   "metadata": {},
   "outputs": [
    {
     "data": {
      "text/plain": [
       "cls_names    patient\n",
       "Name: (procedures, procedures.patient_id), dtype: object"
      ]
     },
     "execution_count": 224,
     "metadata": {},
     "output_type": "execute_result"
    }
   ],
   "source": [
    "multi.loc[('procedures', 'procedures.patient_id'), : ]"
   ]
  },
  {
   "cell_type": "code",
   "execution_count": 243,
   "id": "1892ae08-1fdf-43ef-b19e-b750010bba4b",
   "metadata": {},
   "outputs": [
    {
     "data": {
      "text/html": [
       "<div>\n",
       "<style scoped>\n",
       "    .dataframe tbody tr th:only-of-type {\n",
       "        vertical-align: middle;\n",
       "    }\n",
       "\n",
       "    .dataframe tbody tr th {\n",
       "        vertical-align: top;\n",
       "    }\n",
       "\n",
       "    .dataframe thead th {\n",
       "        text-align: right;\n",
       "    }\n",
       "</style>\n",
       "<table border=\"1\" class=\"dataframe\">\n",
       "  <thead>\n",
       "    <tr style=\"text-align: right;\">\n",
       "      <th></th>\n",
       "      <th></th>\n",
       "      <th>cls_names</th>\n",
       "    </tr>\n",
       "    <tr>\n",
       "      <th>table_name</th>\n",
       "      <th>field_name</th>\n",
       "      <th></th>\n",
       "    </tr>\n",
       "  </thead>\n",
       "  <tbody>\n",
       "    <tr>\n",
       "      <th rowspan=\"2\" valign=\"top\">procedures</th>\n",
       "      <th>procedures.patient_id</th>\n",
       "      <td>patient</td>\n",
       "    </tr>\n",
       "    <tr>\n",
       "      <th>procedures.provider_id</th>\n",
       "      <td>dentist</td>\n",
       "    </tr>\n",
       "  </tbody>\n",
       "</table>\n",
       "</div>"
      ],
      "text/plain": [
       "                                  cls_names\n",
       "table_name field_name                      \n",
       "procedures procedures.patient_id    patient\n",
       "           procedures.provider_id   dentist"
      ]
     },
     "execution_count": 243,
     "metadata": {},
     "output_type": "execute_result"
    }
   ],
   "source": [
    "multi.loc[('procedures', slice(None)), : ]"
   ]
  },
  {
   "cell_type": "code",
   "execution_count": 230,
   "id": "a8e4e90e-69e4-486d-9a9a-b560d93ab413",
   "metadata": {},
   "outputs": [
    {
     "data": {
      "text/html": [
       "<div>\n",
       "<style scoped>\n",
       "    .dataframe tbody tr th:only-of-type {\n",
       "        vertical-align: middle;\n",
       "    }\n",
       "\n",
       "    .dataframe tbody tr th {\n",
       "        vertical-align: top;\n",
       "    }\n",
       "\n",
       "    .dataframe thead th {\n",
       "        text-align: right;\n",
       "    }\n",
       "</style>\n",
       "<table border=\"1\" class=\"dataframe\">\n",
       "  <thead>\n",
       "    <tr style=\"text-align: right;\">\n",
       "      <th></th>\n",
       "      <th></th>\n",
       "      <th>table_name</th>\n",
       "    </tr>\n",
       "    <tr>\n",
       "      <th>cls_names</th>\n",
       "      <th>field_name</th>\n",
       "      <th></th>\n",
       "    </tr>\n",
       "  </thead>\n",
       "  <tbody>\n",
       "    <tr>\n",
       "      <th rowspan=\"2\" valign=\"top\">dentist</th>\n",
       "      <th>procedures.provider_id</th>\n",
       "      <td>procedures</td>\n",
       "    </tr>\n",
       "    <tr>\n",
       "      <th>providers.provider_id</th>\n",
       "      <td>providers</td>\n",
       "    </tr>\n",
       "    <tr>\n",
       "      <th rowspan=\"2\" valign=\"top\">patient</th>\n",
       "      <th>patients.patient_id</th>\n",
       "      <td>patients</td>\n",
       "    </tr>\n",
       "    <tr>\n",
       "      <th>procedures.patient_id</th>\n",
       "      <td>procedures</td>\n",
       "    </tr>\n",
       "  </tbody>\n",
       "</table>\n",
       "</div>"
      ],
      "text/plain": [
       "                                  table_name\n",
       "cls_names field_name                        \n",
       "dentist   procedures.provider_id  procedures\n",
       "          providers.provider_id    providers\n",
       "patient   patients.patient_id       patients\n",
       "          procedures.patient_id   procedures"
      ]
     },
     "execution_count": 230,
     "metadata": {},
     "output_type": "execute_result"
    }
   ],
   "source": [
    "cmulti = field_df.set_index(['cls_names', 'field_name']).sort_index()\n",
    "cmulti"
   ]
  },
  {
   "cell_type": "code",
   "execution_count": 231,
   "id": "9131870b-c3df-40cf-bef8-e341ab02e1a4",
   "metadata": {},
   "outputs": [
    {
     "data": {
      "text/plain": [
       "[('patients',\n",
       "                                table_name\n",
       "  cls_names field_name                    \n",
       "  patient   patients.patient_id   patients),\n",
       " ('procedures',\n",
       "                                    table_name\n",
       "  cls_names field_name                        \n",
       "  dentist   procedures.provider_id  procedures\n",
       "  patient   procedures.patient_id   procedures),\n",
       " ('providers',\n",
       "                                  table_name\n",
       "  cls_names field_name                      \n",
       "  dentist   providers.provider_id  providers)]"
      ]
     },
     "execution_count": 231,
     "metadata": {},
     "output_type": "execute_result"
    }
   ],
   "source": [
    "list(cmulti.groupby('table_name'))"
   ]
  },
  {
   "cell_type": "code",
   "execution_count": 219,
   "id": "606eb46f-4731-43d8-8941-6431d2e172ca",
   "metadata": {},
   "outputs": [
    {
     "data": {
      "text/plain": [
       "array([('patient', 'patients.patient_id'),\n",
       "       ('dentist', 'providers.provider_id'),\n",
       "       ('patient', 'procedures.patient_id'),\n",
       "       ('dentist', 'procedures.provider_id')], dtype=object)"
      ]
     },
     "execution_count": 219,
     "metadata": {},
     "output_type": "execute_result"
    }
   ],
   "source": [
    "field_df.set_index(['cls_names', 'field_name']).index.values"
   ]
  },
  {
   "cell_type": "code",
   "execution_count": 215,
   "id": "3d5e54f2-f05c-4c37-97d3-dc36c637f7d2",
   "metadata": {},
   "outputs": [
    {
     "data": {
      "text/plain": [
       "{('patients', 'patients.patient_id'): {'cls_names': 'patient'},\n",
       " ('providers', 'providers.provider_id'): {'cls_names': 'dentist'},\n",
       " ('procedures', 'procedures.patient_id'): {'cls_names': 'patient'},\n",
       " ('procedures', 'procedures.provider_id'): {'cls_names': 'dentist'}}"
      ]
     },
     "execution_count": 215,
     "metadata": {},
     "output_type": "execute_result"
    }
   ],
   "source": [
    "field_df.set_index(['table_name','field_name']).to_dict(orient='index')"
   ]
  },
  {
   "cell_type": "code",
   "execution_count": 216,
   "id": "365a66d6-a994-4501-b6f9-be4d09938a23",
   "metadata": {},
   "outputs": [],
   "source": [
    "import itertools"
   ]
  },
  {
   "cell_type": "code",
   "execution_count": 217,
   "id": "c8bd3a0b-8946-429e-9d55-94c280fb7eff",
   "metadata": {},
   "outputs": [
    {
     "data": {
      "text/plain": [
       "[('providers.provider_id',),\n",
       " ('procedures.provider_id',),\n",
       " ('patients.provider_id',)]"
      ]
     },
     "execution_count": 217,
     "metadata": {},
     "output_type": "execute_result"
    }
   ],
   "source": [
    "list(itertools.product(['providers.provider_id', 'procedures.provider_id', 'patients.provider_id']))"
   ]
  },
  {
   "cell_type": "code",
   "execution_count": 218,
   "id": "bc2abee9-c571-4b9f-a579-deb354dfdbb3",
   "metadata": {},
   "outputs": [
    {
     "data": {
      "text/plain": [
       "[('providers.provider_id', 'procedures.provider_id'),\n",
       " ('providers.provider_id', 'patients.provider_id'),\n",
       " ('procedures.provider_id', 'patients.provider_id')]"
      ]
     },
     "execution_count": 218,
     "metadata": {},
     "output_type": "execute_result"
    }
   ],
   "source": [
    "list(itertools.combinations(['providers.provider_id', 'procedures.provider_id', 'patients.provider_id'], 2))"
   ]
  },
  {
   "cell_type": "code",
   "execution_count": 226,
   "id": "1314459f-1174-4a7b-a858-9683eca108dc",
   "metadata": {},
   "outputs": [
    {
     "data": {
      "text/plain": [
       "{('patients', 'patients.patient_id'): {'cls_names': 'patient'},\n",
       " ('procedures', 'procedures.patient_id'): {'cls_names': 'patient'},\n",
       " ('procedures', 'procedures.provider_id'): {'cls_names': 'dentist'},\n",
       " ('providers', 'providers.provider_id'): {'cls_names': 'dentist'}}"
      ]
     },
     "execution_count": 226,
     "metadata": {},
     "output_type": "execute_result"
    }
   ],
   "source": [
    "multi.to_dict(orient='index')"
   ]
  },
  {
   "cell_type": "code",
   "execution_count": 245,
   "id": "3499acc5-47a1-47e9-b038-d79135d19d7a",
   "metadata": {},
   "outputs": [
    {
     "data": {
      "text/plain": [
       "[]"
      ]
     },
     "execution_count": 245,
     "metadata": {},
     "output_type": "execute_result"
    }
   ],
   "source": [
    "list(itertools.combinations(['providers.provider_id',], 2))"
   ]
  },
  {
   "cell_type": "code",
   "execution_count": 247,
   "id": "f9fab88b-2a98-47c6-9437-a210e0c5c258",
   "metadata": {},
   "outputs": [
    {
     "data": {
      "text/plain": [
       "'1 = 2'"
      ]
     },
     "execution_count": 247,
     "metadata": {},
     "output_type": "execute_result"
    }
   ],
   "source": [
    "' = '.join(('1', '2'))"
   ]
  },
  {
   "cell_type": "code",
   "execution_count": 258,
   "id": "fbad837c-e1c1-4ea3-a051-1ecea12bd498",
   "metadata": {},
   "outputs": [
    {
     "data": {
      "text/plain": [
       "array([('patients', 'patients.patient_id'),\n",
       "       ('procedures', 'procedures.patient_id'),\n",
       "       ('procedures', 'procedures.provider_id'),\n",
       "       ('providers', 'providers.provider_id')], dtype=object)"
      ]
     },
     "execution_count": 258,
     "metadata": {},
     "output_type": "execute_result"
    }
   ],
   "source": [
    "multi.index.values"
   ]
  },
  {
   "cell_type": "code",
   "execution_count": 260,
   "id": "0d6a8791-0b50-4c25-b99a-39ac889f3742",
   "metadata": {},
   "outputs": [
    {
     "data": {
      "text/plain": [
       "[(('patients', 'patients.patient_id'),\n",
       "  ('procedures', 'procedures.patient_id')),\n",
       " (('patients', 'patients.patient_id'),\n",
       "  ('procedures', 'procedures.provider_id')),\n",
       " (('patients', 'patients.patient_id'), ('providers', 'providers.provider_id')),\n",
       " (('procedures', 'procedures.patient_id'),\n",
       "  ('procedures', 'procedures.provider_id')),\n",
       " (('procedures', 'procedures.patient_id'),\n",
       "  ('providers', 'providers.provider_id')),\n",
       " (('procedures', 'procedures.provider_id'),\n",
       "  ('providers', 'providers.provider_id'))]"
      ]
     },
     "execution_count": 260,
     "metadata": {},
     "output_type": "execute_result"
    }
   ],
   "source": [
    "list(itertools.combinations(multi.index.values, 2))"
   ]
  },
  {
   "cell_type": "code",
   "execution_count": 263,
   "id": "efe0ff23-bad3-45c7-b387-ffc64271925a",
   "metadata": {},
   "outputs": [
    {
     "data": {
      "text/plain": [
       "[(('dentist', 'procedures'),\n",
       "     table_name              field_name cls_names\n",
       "  3  procedures  procedures.provider_id   dentist),\n",
       " (('dentist', 'providers'),\n",
       "    table_name             field_name cls_names\n",
       "  1  providers  providers.provider_id   dentist),\n",
       " (('patient', 'patients'),\n",
       "    table_name           field_name cls_names\n",
       "  0   patients  patients.patient_id   patient),\n",
       " (('patient', 'procedures'),\n",
       "     table_name             field_name cls_names\n",
       "  2  procedures  procedures.patient_id   patient)]"
      ]
     },
     "execution_count": 263,
     "metadata": {},
     "output_type": "execute_result"
    }
   ],
   "source": [
    "list(field_df.groupby(['cls_names', 'table_name']))"
   ]
  },
  {
   "cell_type": "code",
   "execution_count": 262,
   "id": "8cfd4e28-5f3c-4126-947e-95776d2c7fcb",
   "metadata": {},
   "outputs": [
    {
     "data": {
      "text/plain": [
       "[('dentist',\n",
       "                                    cls_names\n",
       "  table_name field_name                      \n",
       "  procedures procedures.provider_id   dentist\n",
       "  providers  providers.provider_id    dentist),\n",
       " ('patient',\n",
       "                                   cls_names\n",
       "  table_name field_name                     \n",
       "  patients   patients.patient_id     patient\n",
       "  procedures procedures.patient_id   patient)]"
      ]
     },
     "execution_count": 262,
     "metadata": {},
     "output_type": "execute_result"
    }
   ],
   "source": [
    "list(multi.groupby('cls_names'))"
   ]
  },
  {
   "cell_type": "code",
   "execution_count": 254,
   "id": "a64b58d8-e199-4c09-a87a-1c3b50f14818",
   "metadata": {},
   "outputs": [
    {
     "data": {
      "text/plain": [
       "[('patients', 'providers'),\n",
       " ('patients', 'procedures'),\n",
       " ('patients', 'procedures'),\n",
       " ('providers', 'procedures'),\n",
       " ('providers', 'procedures'),\n",
       " ('procedures', 'procedures')]"
      ]
     },
     "execution_count": 254,
     "metadata": {},
     "output_type": "execute_result"
    }
   ],
   "source": [
    "table_pairs = list(itertools.combinations(list(field_df['table_name']), 2))\n",
    "table_pairs"
   ]
  },
  {
   "cell_type": "code",
   "execution_count": 252,
   "id": "fcb6c119-1081-404d-985a-1a7fa4d10ecf",
   "metadata": {},
   "outputs": [
    {
     "name": "stdout",
     "output_type": "stream",
     "text": [
      "0 patients providers\n",
      "1 patients procedures\n",
      "2 patients procedures\n",
      "3 providers procedures\n",
      "4 providers procedures\n",
      "5 procedures procedures\n"
     ]
    }
   ],
   "source": [
    "for i, (t1, t2) in enumerate(table_pairs):\n",
    "    print(i, t1, t2)"
   ]
  },
  {
   "cell_type": "code",
   "execution_count": 267,
   "id": "d4b93ec8-14b7-4f6e-82ac-ba12ad61f354",
   "metadata": {},
   "outputs": [
    {
     "data": {
      "text/plain": [
       "[array(['patients', 'patients.patient_id'], dtype=object),\n",
       " array(['providers', 'providers.provider_id'], dtype=object),\n",
       " array(['procedures', 'procedures.patient_id'], dtype=object),\n",
       " array(['procedures', 'procedures.provider_id'], dtype=object)]"
      ]
     },
     "execution_count": 267,
     "metadata": {},
     "output_type": "execute_result"
    }
   ],
   "source": [
    "list(field_df[['table_name', 'field_name']].values)"
   ]
  },
  {
   "cell_type": "code",
   "execution_count": 273,
   "id": "326991bc-2d4b-4e60-a54f-7d2de4b709a6",
   "metadata": {},
   "outputs": [
    {
     "data": {
      "text/plain": [
       "[('patient', 'patients.patient_id'),\n",
       " ('dentist', 'providers.provider_id'),\n",
       " ('patient', 'procedures.patient_id'),\n",
       " ('dentist', 'procedures.provider_id')]"
      ]
     },
     "execution_count": 273,
     "metadata": {},
     "output_type": "execute_result"
    }
   ],
   "source": [
    "tables_fields = field_df.set_index(['cls_names', 'field_name']).index.values.tolist()\n",
    "tables_fields"
   ]
  },
  {
   "cell_type": "code",
   "execution_count": 275,
   "id": "9c7b8812-07c6-40a2-a55d-2c6e609fea62",
   "metadata": {},
   "outputs": [
    {
     "data": {
      "text/plain": [
       "[('patients', 'patients.patient_id'),\n",
       " ('providers', 'providers.provider_id'),\n",
       " ('procedures', 'procedures.patient_id'),\n",
       " ('procedures', 'procedures.provider_id')]"
      ]
     },
     "execution_count": 275,
     "metadata": {},
     "output_type": "execute_result"
    }
   ],
   "source": [
    "tables_fields = list(field_df[['table_name', 'field_name']].itertuples(index=None, name=None))\n",
    "tables_fields"
   ]
  },
  {
   "cell_type": "code",
   "execution_count": 277,
   "id": "fbcf6b94-9627-439e-903f-23642b2ecefd",
   "metadata": {},
   "outputs": [
    {
     "data": {
      "text/plain": [
       "[(('patients', 'patients.patient_id'), ('providers', 'providers.provider_id')),\n",
       " (('patients', 'patients.patient_id'),\n",
       "  ('procedures', 'procedures.patient_id')),\n",
       " (('patients', 'patients.patient_id'),\n",
       "  ('procedures', 'procedures.provider_id')),\n",
       " (('providers', 'providers.provider_id'),\n",
       "  ('procedures', 'procedures.patient_id')),\n",
       " (('providers', 'providers.provider_id'),\n",
       "  ('procedures', 'procedures.provider_id')),\n",
       " (('procedures', 'procedures.patient_id'),\n",
       "  ('procedures', 'procedures.provider_id'))]"
      ]
     },
     "execution_count": 277,
     "metadata": {},
     "output_type": "execute_result"
    }
   ],
   "source": [
    "tables_fields_pairs = itertools.combinations(tables_fields, 2)\n",
    "list(tables_fields_pairs)"
   ]
  },
  {
   "cell_type": "code",
   "execution_count": 290,
   "id": "a2495435-4167-499d-961a-b500bd783dff",
   "metadata": {},
   "outputs": [
    {
     "data": {
      "text/html": [
       "<div>\n",
       "<style scoped>\n",
       "    .dataframe tbody tr th:only-of-type {\n",
       "        vertical-align: middle;\n",
       "    }\n",
       "\n",
       "    .dataframe tbody tr th {\n",
       "        vertical-align: top;\n",
       "    }\n",
       "\n",
       "    .dataframe thead th {\n",
       "        text-align: right;\n",
       "    }\n",
       "</style>\n",
       "<table border=\"1\" class=\"dataframe\">\n",
       "  <thead>\n",
       "    <tr style=\"text-align: right;\">\n",
       "      <th></th>\n",
       "      <th>table_name</th>\n",
       "      <th>field_name</th>\n",
       "      <th>cls_names</th>\n",
       "    </tr>\n",
       "  </thead>\n",
       "  <tbody>\n",
       "    <tr>\n",
       "      <th>0</th>\n",
       "      <td>patients</td>\n",
       "      <td>patients.patient_id</td>\n",
       "      <td>patient</td>\n",
       "    </tr>\n",
       "    <tr>\n",
       "      <th>1</th>\n",
       "      <td>providers</td>\n",
       "      <td>providers.provider_id</td>\n",
       "      <td>dentist</td>\n",
       "    </tr>\n",
       "    <tr>\n",
       "      <th>2</th>\n",
       "      <td>procedures</td>\n",
       "      <td>procedures.patient_id</td>\n",
       "      <td>patient</td>\n",
       "    </tr>\n",
       "    <tr>\n",
       "      <th>3</th>\n",
       "      <td>procedures</td>\n",
       "      <td>procedures.provider_id</td>\n",
       "      <td>dentist</td>\n",
       "    </tr>\n",
       "    <tr>\n",
       "      <th>6</th>\n",
       "      <td>patients</td>\n",
       "      <td>patients.provider_id</td>\n",
       "      <td>dentist</td>\n",
       "    </tr>\n",
       "  </tbody>\n",
       "</table>\n",
       "</div>"
      ],
      "text/plain": [
       "   table_name              field_name cls_names\n",
       "0    patients     patients.patient_id   patient\n",
       "1   providers   providers.provider_id   dentist\n",
       "2  procedures   procedures.patient_id   patient\n",
       "3  procedures  procedures.provider_id   dentist\n",
       "6    patients    patients.provider_id   dentist"
      ]
     },
     "execution_count": 290,
     "metadata": {},
     "output_type": "execute_result"
    }
   ],
   "source": [
    "temp_df = field_df.copy()\n",
    "temp_df.loc[6, 'table_name'] = 'patients'\n",
    "temp_df.loc[6,'field_name'] = 'patients.provider_id'\n",
    "temp_df.loc[6, 'cls_names'] = 'dentist'\n",
    "temp_df"
   ]
  },
  {
   "cell_type": "code",
   "execution_count": 347,
   "id": "60d67ec7-ad11-4f7b-af6f-1c17b4eb60db",
   "metadata": {},
   "outputs": [
    {
     "name": "stdout",
     "output_type": "stream",
     "text": [
      "\n",
      "--- dentist ---\n",
      "\n",
      "[(('providers', 'providers.provider_id'), ('procedures', 'procedures.provider_id')), (('providers', 'providers.provider_id'), ('patients', 'patients.provider_id')), (('procedures', 'procedures.provider_id'), ('patients', 'patients.provider_id'))] \n",
      "\n",
      "\n",
      "--- patient ---\n",
      "\n",
      "[(('patients', 'patients.patient_id'), ('procedures', 'procedures.patient_id'))] \n",
      "\n",
      "from patients\n",
      "  # patients providers\n",
      "inner join providers on  providers.provider_id = patients.provider_id\n",
      "  # providers procedures\n",
      "inner join procedures on  providers.provider_id = procedures.provider_id\n",
      "  # procedures procedures\n",
      "  # procedures patients\n",
      "inner join patients on  procedures.provider_id = patients.provider_id and patients.patient_id = procedures.patient_id\n"
     ]
    }
   ],
   "source": [
    "all_tables = list(temp_df['table_name'])\n",
    "all_pairs = []\n",
    "for group_name, group_df in temp_df.groupby('cls_names'):\n",
    "    print('\\n---', group_name, '---\\n')\n",
    "    \n",
    "    table_names = list(group_df['table_name'])\n",
    "    # print(table_names, '\\n')\n",
    "    # table_pairs = list(itertools.combinations(list(group_df['table_name']), 2))\n",
    "    # print(table_pairs, '\\n')\n",
    "    tables_fields = list(group_df[['table_name', 'field_name']].itertuples(index=None, name=None))\n",
    "    # print(tables_fields, '\\n')\n",
    "    table_field_pairs = list(itertools.combinations(tables_fields, 2))\n",
    "    all_pairs.extend(table_field_pairs)\n",
    "    print(table_field_pairs, '\\n')\n",
    "    \n",
    "for i, tbl in enumerate(all_tables):\n",
    "    if i == 0:\n",
    "        print('from', tbl)\n",
    "    else:\n",
    "        # print('join', tbl)\n",
    "        prev_tbl = all_tables[i - 1]\n",
    "        print('  #', prev_tbl, tbl)\n",
    "        \n",
    "        joins = []\n",
    "        for left, right in all_pairs:\n",
    "            temp = (left[0], right[0])\n",
    "            if prev_tbl != tbl and prev_tbl in temp and tbl in temp:\n",
    "                joins.append(f'{left[1]} = {right[1]}')\n",
    "        \n",
    "        if len(joins) > 0:\n",
    "            print(f'inner join {tbl} on ', ' and '.join(joins))"
   ]
  },
  {
   "cell_type": "code",
   "execution_count": 306,
   "id": "c52b9ef8-0176-4e96-aca6-ed8d29f26a0c",
   "metadata": {},
   "outputs": [
    {
     "data": {
      "text/plain": [
       "False"
      ]
     },
     "execution_count": 306,
     "metadata": {},
     "output_type": "execute_result"
    }
   ],
   "source": [
    "'x' in ('a', 'b')"
   ]
  },
  {
   "cell_type": "code",
   "execution_count": 326,
   "id": "a31dd434-4f9b-403c-b9fc-cedfe97f0508",
   "metadata": {},
   "outputs": [
    {
     "data": {
      "text/html": [
       "<div>\n",
       "<style scoped>\n",
       "    .dataframe tbody tr th:only-of-type {\n",
       "        vertical-align: middle;\n",
       "    }\n",
       "\n",
       "    .dataframe tbody tr th {\n",
       "        vertical-align: top;\n",
       "    }\n",
       "\n",
       "    .dataframe thead th {\n",
       "        text-align: right;\n",
       "    }\n",
       "</style>\n",
       "<table border=\"1\" class=\"dataframe\">\n",
       "  <thead>\n",
       "    <tr style=\"text-align: right;\">\n",
       "      <th></th>\n",
       "      <th>patient_id</th>\n",
       "      <th>name</th>\n",
       "      <th>gender</th>\n",
       "      <th>dob</th>\n",
       "      <th>provider_id</th>\n",
       "    </tr>\n",
       "  </thead>\n",
       "  <tbody>\n",
       "    <tr>\n",
       "      <th>0</th>\n",
       "      <td>1001</td>\n",
       "      <td>Rosco</td>\n",
       "      <td>M</td>\n",
       "      <td>2001-01-01</td>\n",
       "      <td>1</td>\n",
       "    </tr>\n",
       "    <tr>\n",
       "      <th>1</th>\n",
       "      <td>1002</td>\n",
       "      <td>Martha</td>\n",
       "      <td>F</td>\n",
       "      <td>2002-02-02</td>\n",
       "      <td>2</td>\n",
       "    </tr>\n",
       "    <tr>\n",
       "      <th>2</th>\n",
       "      <td>1003</td>\n",
       "      <td>Fred</td>\n",
       "      <td>M</td>\n",
       "      <td>2003-03-03</td>\n",
       "      <td>3</td>\n",
       "    </tr>\n",
       "    <tr>\n",
       "      <th>3</th>\n",
       "      <td>1004</td>\n",
       "      <td>Wilma</td>\n",
       "      <td>F</td>\n",
       "      <td>2004-04-04</td>\n",
       "      <td>1</td>\n",
       "    </tr>\n",
       "    <tr>\n",
       "      <th>4</th>\n",
       "      <td>1005</td>\n",
       "      <td>Betty</td>\n",
       "      <td>F</td>\n",
       "      <td>2005-05-05</td>\n",
       "      <td>2</td>\n",
       "    </tr>\n",
       "    <tr>\n",
       "      <th>5</th>\n",
       "      <td>1006</td>\n",
       "      <td>Barney</td>\n",
       "      <td>M</td>\n",
       "      <td>2006-06-06</td>\n",
       "      <td>3</td>\n",
       "    </tr>\n",
       "  </tbody>\n",
       "</table>\n",
       "</div>"
      ],
      "text/plain": [
       "   patient_id    name gender         dob  provider_id\n",
       "0        1001   Rosco      M  2001-01-01            1\n",
       "1        1002  Martha      F  2002-02-02            2\n",
       "2        1003    Fred      M  2003-03-03            3\n",
       "3        1004   Wilma      F  2004-04-04            1\n",
       "4        1005   Betty      F  2005-05-05            2\n",
       "5        1006  Barney      M  2006-06-06            3"
      ]
     },
     "execution_count": 326,
     "metadata": {},
     "output_type": "execute_result"
    }
   ],
   "source": [
    "temp_patients = patients.copy()\n",
    "temp_patients['provider_id'] = [1,2,3,1,2,3]\n",
    "temp_patients"
   ]
  },
  {
   "cell_type": "code",
   "execution_count": 346,
   "id": "31c1c217-fbd6-4c84-9f5c-a36d641162da",
   "metadata": {},
   "outputs": [
    {
     "data": {
      "text/html": [
       "<div>\n",
       "<style scoped>\n",
       "    .dataframe tbody tr th:only-of-type {\n",
       "        vertical-align: middle;\n",
       "    }\n",
       "\n",
       "    .dataframe tbody tr th {\n",
       "        vertical-align: top;\n",
       "    }\n",
       "\n",
       "    .dataframe thead th {\n",
       "        text-align: right;\n",
       "    }\n",
       "</style>\n",
       "<table border=\"1\" class=\"dataframe\">\n",
       "  <thead>\n",
       "    <tr style=\"text-align: right;\">\n",
       "      <th></th>\n",
       "      <th>patient_id</th>\n",
       "      <th>patient_id</th>\n",
       "      <th>provider_id</th>\n",
       "      <th>provider_id</th>\n",
       "    </tr>\n",
       "  </thead>\n",
       "  <tbody>\n",
       "    <tr>\n",
       "      <th>0</th>\n",
       "      <td>1001</td>\n",
       "      <td>1001</td>\n",
       "      <td>1</td>\n",
       "      <td>1</td>\n",
       "    </tr>\n",
       "    <tr>\n",
       "      <th>1</th>\n",
       "      <td>1002</td>\n",
       "      <td>1002</td>\n",
       "      <td>2</td>\n",
       "      <td>2</td>\n",
       "    </tr>\n",
       "    <tr>\n",
       "      <th>2</th>\n",
       "      <td>1003</td>\n",
       "      <td>1003</td>\n",
       "      <td>3</td>\n",
       "      <td>3</td>\n",
       "    </tr>\n",
       "    <tr>\n",
       "      <th>3</th>\n",
       "      <td>1004</td>\n",
       "      <td>1004</td>\n",
       "      <td>1</td>\n",
       "      <td>1</td>\n",
       "    </tr>\n",
       "    <tr>\n",
       "      <th>4</th>\n",
       "      <td>1005</td>\n",
       "      <td>1005</td>\n",
       "      <td>2</td>\n",
       "      <td>2</td>\n",
       "    </tr>\n",
       "    <tr>\n",
       "      <th>5</th>\n",
       "      <td>1006</td>\n",
       "      <td>1006</td>\n",
       "      <td>3</td>\n",
       "      <td>3</td>\n",
       "    </tr>\n",
       "  </tbody>\n",
       "</table>\n",
       "</div>"
      ],
      "text/plain": [
       "   patient_id  patient_id  provider_id  provider_id\n",
       "0        1001        1001            1            1\n",
       "1        1002        1002            2            2\n",
       "2        1003        1003            3            3\n",
       "3        1004        1004            1            1\n",
       "4        1005        1005            2            2\n",
       "5        1006        1006            3            3"
      ]
     },
     "execution_count": 346,
     "metadata": {},
     "output_type": "execute_result"
    }
   ],
   "source": [
    "q = \"\"\"\n",
    "select temp_patients.patient_id, procedures.patient_id, procedures.provider_id, providers.provider_id\n",
    "from temp_patients\n",
    "inner join procedures on temp_patients.patient_id = procedures.patient_id\n",
    "inner join providers on procedures.provider_id = providers.provider_id and temp_patients.provider_id = providers.provider_id\n",
    "\"\"\"\n",
    "sqldf(q)"
   ]
  },
  {
   "cell_type": "code",
   "execution_count": null,
   "id": "ec9843d8-bab2-4b70-9aa0-c2ed2cc66583",
   "metadata": {},
   "outputs": [],
   "source": []
  }
 ],
 "metadata": {
  "kernelspec": {
   "display_name": "test-data-field-punning",
   "language": "python",
   "name": "test-data-field-punning"
  },
  "language_info": {
   "codemirror_mode": {
    "name": "ipython",
    "version": 3
   },
   "file_extension": ".py",
   "mimetype": "text/x-python",
   "name": "python",
   "nbconvert_exporter": "python",
   "pygments_lexer": "ipython3",
   "version": "3.9.13"
  }
 },
 "nbformat": 4,
 "nbformat_minor": 5
}
